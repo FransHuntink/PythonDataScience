{
 "cells": [
  {
   "cell_type": "code",
   "execution_count": 4,
   "metadata": {},
   "outputs": [],
   "source": [
    "## Generate data from our simulated users ##\n",
    "\n",
    "# Reference the required imports for analysis\n",
    "from DataGenerator import DataGenerator\n",
    "from csv import writer\n",
    "import pandas as pd\n",
    "\n",
    "generator = DataGenerator()\n",
    "\n",
    "def append_list_as_row(file_name, list_of_elem):\n",
    "    # Open file in append mode\n",
    "    with open(file_name, 'a+', newline='') as write_obj:\n",
    "        # Create a writer object from csv module\n",
    "        csv_writer = writer(write_obj)\n",
    "        # Add contents of list as last row in the csv file\n",
    "        csv_writer.writerow(list_of_elem)\n",
    "\n",
    "for x in range(0, 5):\n",
    "    append_list_as_row('data.csv', generator.GeneratePersonData())\n"
   ]
  },
  {
   "cell_type": "code",
   "execution_count": 5,
   "metadata": {},
   "outputs": [
    {
     "output_type": "execute_result",
     "data": {
      "text/plain": "              name  gender  age     sexuality  openness  conscientiousness  \\\n0  Justin Gonzalez    male   31  heterosexual  0.380113           0.980777   \n1      Eric Hudson    male   35  heterosexual  0.273128           0.885261   \n2     Laura Torres  female   21  heterosexual  0.753864           0.879435   \n3   Cynthia Gordon    male   37           gay  0.789568           0.984858   \n4    Ronnie Miller    male   44  heterosexual  0.173930           0.826608   \n\n   extraversion  agreeableness  neuroticism  pets sports  workout      travel  \\\n0      0.146142       0.104798     0.275133     1    yes        1  occasional   \n1      0.395132       0.433387     0.291455     1     no        1  occasional   \n2      0.013215       0.121368     0.623274     2    yes        1    frequent   \n3      0.415297       0.550878     0.215652     3     no        2  occasional   \n4      0.474660       0.386605     0.640754     3    yes        2  occasional   \n\n  outdoors    smoking relationshiptype   facebookfriends   prevrelationships  \n0  outdoor  nonsmoker             open               948                 NaN  \n1  outdoor      heavy           closed               591                 NaN  \n2  outdoor  nonsmoker           closed               308                 NaN  \n3  outdoor  nonsmoker           closed               789                 NaN  \n4  outdoor  nonsmoker           closed               962                 NaN  ",
      "text/html": "<div>\n<style scoped>\n    .dataframe tbody tr th:only-of-type {\n        vertical-align: middle;\n    }\n\n    .dataframe tbody tr th {\n        vertical-align: top;\n    }\n\n    .dataframe thead th {\n        text-align: right;\n    }\n</style>\n<table border=\"1\" class=\"dataframe\">\n  <thead>\n    <tr style=\"text-align: right;\">\n      <th></th>\n      <th>name</th>\n      <th>gender</th>\n      <th>age</th>\n      <th>sexuality</th>\n      <th>openness</th>\n      <th>conscientiousness</th>\n      <th>extraversion</th>\n      <th>agreeableness</th>\n      <th>neuroticism</th>\n      <th>pets</th>\n      <th>sports</th>\n      <th>workout</th>\n      <th>travel</th>\n      <th>outdoors</th>\n      <th>smoking</th>\n      <th>relationshiptype</th>\n      <th>facebookfriends</th>\n      <th>prevrelationships</th>\n    </tr>\n  </thead>\n  <tbody>\n    <tr>\n      <th>0</th>\n      <td>Justin Gonzalez</td>\n      <td>male</td>\n      <td>31</td>\n      <td>heterosexual</td>\n      <td>0.380113</td>\n      <td>0.980777</td>\n      <td>0.146142</td>\n      <td>0.104798</td>\n      <td>0.275133</td>\n      <td>1</td>\n      <td>yes</td>\n      <td>1</td>\n      <td>occasional</td>\n      <td>outdoor</td>\n      <td>nonsmoker</td>\n      <td>open</td>\n      <td>948</td>\n      <td>NaN</td>\n    </tr>\n    <tr>\n      <th>1</th>\n      <td>Eric Hudson</td>\n      <td>male</td>\n      <td>35</td>\n      <td>heterosexual</td>\n      <td>0.273128</td>\n      <td>0.885261</td>\n      <td>0.395132</td>\n      <td>0.433387</td>\n      <td>0.291455</td>\n      <td>1</td>\n      <td>no</td>\n      <td>1</td>\n      <td>occasional</td>\n      <td>outdoor</td>\n      <td>heavy</td>\n      <td>closed</td>\n      <td>591</td>\n      <td>NaN</td>\n    </tr>\n    <tr>\n      <th>2</th>\n      <td>Laura Torres</td>\n      <td>female</td>\n      <td>21</td>\n      <td>heterosexual</td>\n      <td>0.753864</td>\n      <td>0.879435</td>\n      <td>0.013215</td>\n      <td>0.121368</td>\n      <td>0.623274</td>\n      <td>2</td>\n      <td>yes</td>\n      <td>1</td>\n      <td>frequent</td>\n      <td>outdoor</td>\n      <td>nonsmoker</td>\n      <td>closed</td>\n      <td>308</td>\n      <td>NaN</td>\n    </tr>\n    <tr>\n      <th>3</th>\n      <td>Cynthia Gordon</td>\n      <td>male</td>\n      <td>37</td>\n      <td>gay</td>\n      <td>0.789568</td>\n      <td>0.984858</td>\n      <td>0.415297</td>\n      <td>0.550878</td>\n      <td>0.215652</td>\n      <td>3</td>\n      <td>no</td>\n      <td>2</td>\n      <td>occasional</td>\n      <td>outdoor</td>\n      <td>nonsmoker</td>\n      <td>closed</td>\n      <td>789</td>\n      <td>NaN</td>\n    </tr>\n    <tr>\n      <th>4</th>\n      <td>Ronnie Miller</td>\n      <td>male</td>\n      <td>44</td>\n      <td>heterosexual</td>\n      <td>0.173930</td>\n      <td>0.826608</td>\n      <td>0.474660</td>\n      <td>0.386605</td>\n      <td>0.640754</td>\n      <td>3</td>\n      <td>yes</td>\n      <td>2</td>\n      <td>occasional</td>\n      <td>outdoor</td>\n      <td>nonsmoker</td>\n      <td>closed</td>\n      <td>962</td>\n      <td>NaN</td>\n    </tr>\n  </tbody>\n</table>\n</div>"
     },
     "metadata": {},
     "execution_count": 5
    }
   ],
   "source": [
    "## Explore generated data ## \n",
    "\n",
    "data = pd.read_csv(\"data.csv\") \n",
    "# Preview the first 5 lines of the loaded data \n",
    "data.head()"
   ]
  },
  {
   "cell_type": "code",
   "execution_count": 3,
   "metadata": {},
   "outputs": [
    {
     "output_type": "execute_result",
     "data": {
      "text/plain": "                  name  gender  age    sexuality  openness  conscientiousness  \\\n0         Jackie Davis    male   41  hereosexual  0.761846           0.034007   \n1      Sabrina Mercado  female   33  hereosexual  0.468079           0.845829   \n2        Theresa Moody  female   26  hereosexual  0.094062           0.197074   \n3      Johnathan Moore    male   18  hereosexual  0.890633           0.806020   \n4        John Anderson    male   39  hereosexual  0.669093           0.783993   \n5       Christine Wall  female   42  hereosexual  0.153353           0.939567   \n6   Christopher Parker    male   36  hereosexual  0.060998           0.134267   \n7            Jose Bond  female   18  hereosexual  0.236082           0.343063   \n8        Kristen Smith    male   47  hereosexual  0.303133           0.302410   \n9          Erika Brown    male   31  hereosexual  0.587475           0.584991   \n10   Christina Raymond    male   25  hereosexual  0.588174           0.668511   \n11         Steven Shah  female   42        other  0.046857           0.025348   \n12        George Black  female   50          gay  0.457727           0.639546   \n13      David Martinez  female   27  hereosexual  0.659309           0.533830   \n14          Ryan Adams    male   30  hereosexual  0.095842           0.047359   \n\n    extraversion  agreeableness  neuroticism  pets sports  workout  \\\n0       0.288324       0.844088     0.967086     0    yes        0   \n1       0.248570       0.729123     0.982972     1     no        1   \n2       0.305157       0.081375     0.087015     1    yes        1   \n3       0.552918       0.560668     0.618570     4     no        0   \n4       0.702627       0.565424     0.426286     1     no        1   \n5       0.238103       0.895147     0.337258     1     no        0   \n6       0.365813       0.737031     0.152688     2    yes        0   \n7       0.205074       0.923254     0.723439     3    yes        0   \n8       0.303963       0.032666     0.264793     2    yes        3   \n9       0.597940       0.859593     0.803353     4     no        4   \n10      0.253954       0.677086     0.255598     2     no        3   \n11      0.763169       0.108394     0.802487     2    yes        4   \n12      0.406721       0.831066     0.323681     0     no        1   \n13      0.989696       0.869252     0.716067     1    yes        2   \n14      0.340085       0.561854     0.939400     1     no        1   \n\n        travel outdoors  smoking  relationshipType  \n0         none   indoor        0                 0  \n1   occasional   indoor        1                 0  \n2     frequent  outdoor        1                 0  \n3   occasional  outdoor        2                 0  \n4   occasional  outdoor        0                 0  \n5     frequent   indoor        1                 1  \n6   occasional  outdoor        1                 1  \n7   occasional  outdoor        1                 0  \n8     frequent  outdoor        0                 0  \n9     frequent   indoor        1                 0  \n10        none   indoor        0                 0  \n11  occasional  outdoor        0                 0  \n12  occasional   indoor        0                 1  \n13  occasional  outdoor        1                 1  \n14        none  outdoor        2                 0  ",
      "text/html": "<div>\n<style scoped>\n    .dataframe tbody tr th:only-of-type {\n        vertical-align: middle;\n    }\n\n    .dataframe tbody tr th {\n        vertical-align: top;\n    }\n\n    .dataframe thead th {\n        text-align: right;\n    }\n</style>\n<table border=\"1\" class=\"dataframe\">\n  <thead>\n    <tr style=\"text-align: right;\">\n      <th></th>\n      <th>name</th>\n      <th>gender</th>\n      <th>age</th>\n      <th>sexuality</th>\n      <th>openness</th>\n      <th>conscientiousness</th>\n      <th>extraversion</th>\n      <th>agreeableness</th>\n      <th>neuroticism</th>\n      <th>pets</th>\n      <th>sports</th>\n      <th>workout</th>\n      <th>travel</th>\n      <th>outdoors</th>\n      <th>smoking</th>\n      <th>relationshipType</th>\n    </tr>\n  </thead>\n  <tbody>\n    <tr>\n      <th>0</th>\n      <td>Jackie Davis</td>\n      <td>male</td>\n      <td>41</td>\n      <td>hereosexual</td>\n      <td>0.761846</td>\n      <td>0.034007</td>\n      <td>0.288324</td>\n      <td>0.844088</td>\n      <td>0.967086</td>\n      <td>0</td>\n      <td>yes</td>\n      <td>0</td>\n      <td>none</td>\n      <td>indoor</td>\n      <td>0</td>\n      <td>0</td>\n    </tr>\n    <tr>\n      <th>1</th>\n      <td>Sabrina Mercado</td>\n      <td>female</td>\n      <td>33</td>\n      <td>hereosexual</td>\n      <td>0.468079</td>\n      <td>0.845829</td>\n      <td>0.248570</td>\n      <td>0.729123</td>\n      <td>0.982972</td>\n      <td>1</td>\n      <td>no</td>\n      <td>1</td>\n      <td>occasional</td>\n      <td>indoor</td>\n      <td>1</td>\n      <td>0</td>\n    </tr>\n    <tr>\n      <th>2</th>\n      <td>Theresa Moody</td>\n      <td>female</td>\n      <td>26</td>\n      <td>hereosexual</td>\n      <td>0.094062</td>\n      <td>0.197074</td>\n      <td>0.305157</td>\n      <td>0.081375</td>\n      <td>0.087015</td>\n      <td>1</td>\n      <td>yes</td>\n      <td>1</td>\n      <td>frequent</td>\n      <td>outdoor</td>\n      <td>1</td>\n      <td>0</td>\n    </tr>\n    <tr>\n      <th>3</th>\n      <td>Johnathan Moore</td>\n      <td>male</td>\n      <td>18</td>\n      <td>hereosexual</td>\n      <td>0.890633</td>\n      <td>0.806020</td>\n      <td>0.552918</td>\n      <td>0.560668</td>\n      <td>0.618570</td>\n      <td>4</td>\n      <td>no</td>\n      <td>0</td>\n      <td>occasional</td>\n      <td>outdoor</td>\n      <td>2</td>\n      <td>0</td>\n    </tr>\n    <tr>\n      <th>4</th>\n      <td>John Anderson</td>\n      <td>male</td>\n      <td>39</td>\n      <td>hereosexual</td>\n      <td>0.669093</td>\n      <td>0.783993</td>\n      <td>0.702627</td>\n      <td>0.565424</td>\n      <td>0.426286</td>\n      <td>1</td>\n      <td>no</td>\n      <td>1</td>\n      <td>occasional</td>\n      <td>outdoor</td>\n      <td>0</td>\n      <td>0</td>\n    </tr>\n    <tr>\n      <th>5</th>\n      <td>Christine Wall</td>\n      <td>female</td>\n      <td>42</td>\n      <td>hereosexual</td>\n      <td>0.153353</td>\n      <td>0.939567</td>\n      <td>0.238103</td>\n      <td>0.895147</td>\n      <td>0.337258</td>\n      <td>1</td>\n      <td>no</td>\n      <td>0</td>\n      <td>frequent</td>\n      <td>indoor</td>\n      <td>1</td>\n      <td>1</td>\n    </tr>\n    <tr>\n      <th>6</th>\n      <td>Christopher Parker</td>\n      <td>male</td>\n      <td>36</td>\n      <td>hereosexual</td>\n      <td>0.060998</td>\n      <td>0.134267</td>\n      <td>0.365813</td>\n      <td>0.737031</td>\n      <td>0.152688</td>\n      <td>2</td>\n      <td>yes</td>\n      <td>0</td>\n      <td>occasional</td>\n      <td>outdoor</td>\n      <td>1</td>\n      <td>1</td>\n    </tr>\n    <tr>\n      <th>7</th>\n      <td>Jose Bond</td>\n      <td>female</td>\n      <td>18</td>\n      <td>hereosexual</td>\n      <td>0.236082</td>\n      <td>0.343063</td>\n      <td>0.205074</td>\n      <td>0.923254</td>\n      <td>0.723439</td>\n      <td>3</td>\n      <td>yes</td>\n      <td>0</td>\n      <td>occasional</td>\n      <td>outdoor</td>\n      <td>1</td>\n      <td>0</td>\n    </tr>\n    <tr>\n      <th>8</th>\n      <td>Kristen Smith</td>\n      <td>male</td>\n      <td>47</td>\n      <td>hereosexual</td>\n      <td>0.303133</td>\n      <td>0.302410</td>\n      <td>0.303963</td>\n      <td>0.032666</td>\n      <td>0.264793</td>\n      <td>2</td>\n      <td>yes</td>\n      <td>3</td>\n      <td>frequent</td>\n      <td>outdoor</td>\n      <td>0</td>\n      <td>0</td>\n    </tr>\n    <tr>\n      <th>9</th>\n      <td>Erika Brown</td>\n      <td>male</td>\n      <td>31</td>\n      <td>hereosexual</td>\n      <td>0.587475</td>\n      <td>0.584991</td>\n      <td>0.597940</td>\n      <td>0.859593</td>\n      <td>0.803353</td>\n      <td>4</td>\n      <td>no</td>\n      <td>4</td>\n      <td>frequent</td>\n      <td>indoor</td>\n      <td>1</td>\n      <td>0</td>\n    </tr>\n    <tr>\n      <th>10</th>\n      <td>Christina Raymond</td>\n      <td>male</td>\n      <td>25</td>\n      <td>hereosexual</td>\n      <td>0.588174</td>\n      <td>0.668511</td>\n      <td>0.253954</td>\n      <td>0.677086</td>\n      <td>0.255598</td>\n      <td>2</td>\n      <td>no</td>\n      <td>3</td>\n      <td>none</td>\n      <td>indoor</td>\n      <td>0</td>\n      <td>0</td>\n    </tr>\n    <tr>\n      <th>11</th>\n      <td>Steven Shah</td>\n      <td>female</td>\n      <td>42</td>\n      <td>other</td>\n      <td>0.046857</td>\n      <td>0.025348</td>\n      <td>0.763169</td>\n      <td>0.108394</td>\n      <td>0.802487</td>\n      <td>2</td>\n      <td>yes</td>\n      <td>4</td>\n      <td>occasional</td>\n      <td>outdoor</td>\n      <td>0</td>\n      <td>0</td>\n    </tr>\n    <tr>\n      <th>12</th>\n      <td>George Black</td>\n      <td>female</td>\n      <td>50</td>\n      <td>gay</td>\n      <td>0.457727</td>\n      <td>0.639546</td>\n      <td>0.406721</td>\n      <td>0.831066</td>\n      <td>0.323681</td>\n      <td>0</td>\n      <td>no</td>\n      <td>1</td>\n      <td>occasional</td>\n      <td>indoor</td>\n      <td>0</td>\n      <td>1</td>\n    </tr>\n    <tr>\n      <th>13</th>\n      <td>David Martinez</td>\n      <td>female</td>\n      <td>27</td>\n      <td>hereosexual</td>\n      <td>0.659309</td>\n      <td>0.533830</td>\n      <td>0.989696</td>\n      <td>0.869252</td>\n      <td>0.716067</td>\n      <td>1</td>\n      <td>yes</td>\n      <td>2</td>\n      <td>occasional</td>\n      <td>outdoor</td>\n      <td>1</td>\n      <td>1</td>\n    </tr>\n    <tr>\n      <th>14</th>\n      <td>Ryan Adams</td>\n      <td>male</td>\n      <td>30</td>\n      <td>hereosexual</td>\n      <td>0.095842</td>\n      <td>0.047359</td>\n      <td>0.340085</td>\n      <td>0.561854</td>\n      <td>0.939400</td>\n      <td>1</td>\n      <td>no</td>\n      <td>1</td>\n      <td>none</td>\n      <td>outdoor</td>\n      <td>2</td>\n      <td>0</td>\n    </tr>\n  </tbody>\n</table>\n</div>"
     },
     "metadata": {},
     "execution_count": 3
    }
   ],
   "source": [
    "## Apply data validation in order to make\n",
    "## it possible to work with the data ##\n",
    "\n",
    "\n",
    "# Codify the string values to numerical\n",
    "# Values for the model to make sense of\n",
    "data.replace({'closed': 0, 'open': 1}, inplace=True)\n",
    "data['smoking'].replace({'nonsmoker': 0, 'occasional': 1, 'heavy': 2}, inplace=True)\n",
    "data.head(15)\n",
    "\n"
   ]
  },
  {
   "cell_type": "code",
   "execution_count": 46,
   "metadata": {},
   "outputs": [
    {
     "output_type": "error",
     "ename": "IndexingError",
     "evalue": "Too many indexers",
     "traceback": [
      "\u001b[1;31m---------------------------------------------------------------------------\u001b[0m",
      "\u001b[1;31mIndexingError\u001b[0m                             Traceback (most recent call last)",
      "\u001b[1;32m<ipython-input-46-638022740a32>\u001b[0m in \u001b[0;36m<module>\u001b[1;34m\u001b[0m\n\u001b[0;32m      7\u001b[0m \u001b[1;31m#personalitySubset.head()\u001b[0m\u001b[1;33m\u001b[0m\u001b[1;33m\u001b[0m\u001b[1;33m\u001b[0m\u001b[0m\n\u001b[0;32m      8\u001b[0m \u001b[1;33m\u001b[0m\u001b[0m\n\u001b[1;32m----> 9\u001b[1;33m \u001b[0motherSubset\u001b[0m \u001b[1;33m=\u001b[0m \u001b[0mdata\u001b[0m\u001b[1;33m.\u001b[0m\u001b[0miloc\u001b[0m\u001b[1;33m[\u001b[0m\u001b[1;33m:\u001b[0m\u001b[1;33m,\u001b[0m \u001b[1;36m4\u001b[0m\u001b[1;33m,\u001b[0m\u001b[1;36m5\u001b[0m\u001b[1;33m]\u001b[0m\u001b[1;33m\u001b[0m\u001b[1;33m\u001b[0m\u001b[0m\n\u001b[0m\u001b[0;32m     10\u001b[0m \u001b[0motherSubset\u001b[0m\u001b[1;33m.\u001b[0m\u001b[0mhead\u001b[0m\u001b[1;33m(\u001b[0m\u001b[1;33m)\u001b[0m\u001b[1;33m\u001b[0m\u001b[1;33m\u001b[0m\u001b[0m\n\u001b[0;32m     11\u001b[0m \u001b[1;33m\u001b[0m\u001b[0m\n",
      "\u001b[1;32m~\\Miniconda3\\envs\\myenv\\lib\\site-packages\\pandas\\core\\indexing.py\u001b[0m in \u001b[0;36m__getitem__\u001b[1;34m(self, key)\u001b[0m\n\u001b[0;32m   1760\u001b[0m                 \u001b[1;32mexcept\u001b[0m \u001b[1;33m(\u001b[0m\u001b[0mKeyError\u001b[0m\u001b[1;33m,\u001b[0m \u001b[0mIndexError\u001b[0m\u001b[1;33m,\u001b[0m \u001b[0mAttributeError\u001b[0m\u001b[1;33m)\u001b[0m\u001b[1;33m:\u001b[0m\u001b[1;33m\u001b[0m\u001b[1;33m\u001b[0m\u001b[0m\n\u001b[0;32m   1761\u001b[0m                     \u001b[1;32mpass\u001b[0m\u001b[1;33m\u001b[0m\u001b[1;33m\u001b[0m\u001b[0m\n\u001b[1;32m-> 1762\u001b[1;33m             \u001b[1;32mreturn\u001b[0m \u001b[0mself\u001b[0m\u001b[1;33m.\u001b[0m\u001b[0m_getitem_tuple\u001b[0m\u001b[1;33m(\u001b[0m\u001b[0mkey\u001b[0m\u001b[1;33m)\u001b[0m\u001b[1;33m\u001b[0m\u001b[1;33m\u001b[0m\u001b[0m\n\u001b[0m\u001b[0;32m   1763\u001b[0m         \u001b[1;32melse\u001b[0m\u001b[1;33m:\u001b[0m\u001b[1;33m\u001b[0m\u001b[1;33m\u001b[0m\u001b[0m\n\u001b[0;32m   1764\u001b[0m             \u001b[1;31m# we by definition only have the 0th axis\u001b[0m\u001b[1;33m\u001b[0m\u001b[1;33m\u001b[0m\u001b[1;33m\u001b[0m\u001b[0m\n",
      "\u001b[1;32m~\\Miniconda3\\envs\\myenv\\lib\\site-packages\\pandas\\core\\indexing.py\u001b[0m in \u001b[0;36m_getitem_tuple\u001b[1;34m(self, tup)\u001b[0m\n\u001b[0;32m   2065\u001b[0m     \u001b[1;32mdef\u001b[0m \u001b[0m_getitem_tuple\u001b[0m\u001b[1;33m(\u001b[0m\u001b[0mself\u001b[0m\u001b[1;33m,\u001b[0m \u001b[0mtup\u001b[0m\u001b[1;33m:\u001b[0m \u001b[0mTuple\u001b[0m\u001b[1;33m)\u001b[0m\u001b[1;33m:\u001b[0m\u001b[1;33m\u001b[0m\u001b[1;33m\u001b[0m\u001b[0m\n\u001b[0;32m   2066\u001b[0m \u001b[1;33m\u001b[0m\u001b[0m\n\u001b[1;32m-> 2067\u001b[1;33m         \u001b[0mself\u001b[0m\u001b[1;33m.\u001b[0m\u001b[0m_has_valid_tuple\u001b[0m\u001b[1;33m(\u001b[0m\u001b[0mtup\u001b[0m\u001b[1;33m)\u001b[0m\u001b[1;33m\u001b[0m\u001b[1;33m\u001b[0m\u001b[0m\n\u001b[0m\u001b[0;32m   2068\u001b[0m         \u001b[1;32mtry\u001b[0m\u001b[1;33m:\u001b[0m\u001b[1;33m\u001b[0m\u001b[1;33m\u001b[0m\u001b[0m\n\u001b[0;32m   2069\u001b[0m             \u001b[1;32mreturn\u001b[0m \u001b[0mself\u001b[0m\u001b[1;33m.\u001b[0m\u001b[0m_getitem_lowerdim\u001b[0m\u001b[1;33m(\u001b[0m\u001b[0mtup\u001b[0m\u001b[1;33m)\u001b[0m\u001b[1;33m\u001b[0m\u001b[1;33m\u001b[0m\u001b[0m\n",
      "\u001b[1;32m~\\Miniconda3\\envs\\myenv\\lib\\site-packages\\pandas\\core\\indexing.py\u001b[0m in \u001b[0;36m_has_valid_tuple\u001b[1;34m(self, key)\u001b[0m\n\u001b[0;32m    699\u001b[0m         \u001b[1;32mfor\u001b[0m \u001b[0mi\u001b[0m\u001b[1;33m,\u001b[0m \u001b[0mk\u001b[0m \u001b[1;32min\u001b[0m \u001b[0menumerate\u001b[0m\u001b[1;33m(\u001b[0m\u001b[0mkey\u001b[0m\u001b[1;33m)\u001b[0m\u001b[1;33m:\u001b[0m\u001b[1;33m\u001b[0m\u001b[1;33m\u001b[0m\u001b[0m\n\u001b[0;32m    700\u001b[0m             \u001b[1;32mif\u001b[0m \u001b[0mi\u001b[0m \u001b[1;33m>=\u001b[0m \u001b[0mself\u001b[0m\u001b[1;33m.\u001b[0m\u001b[0mndim\u001b[0m\u001b[1;33m:\u001b[0m\u001b[1;33m\u001b[0m\u001b[1;33m\u001b[0m\u001b[0m\n\u001b[1;32m--> 701\u001b[1;33m                 \u001b[1;32mraise\u001b[0m \u001b[0mIndexingError\u001b[0m\u001b[1;33m(\u001b[0m\u001b[1;34m\"Too many indexers\"\u001b[0m\u001b[1;33m)\u001b[0m\u001b[1;33m\u001b[0m\u001b[1;33m\u001b[0m\u001b[0m\n\u001b[0m\u001b[0;32m    702\u001b[0m             \u001b[1;32mtry\u001b[0m\u001b[1;33m:\u001b[0m\u001b[1;33m\u001b[0m\u001b[1;33m\u001b[0m\u001b[0m\n\u001b[0;32m    703\u001b[0m                 \u001b[0mself\u001b[0m\u001b[1;33m.\u001b[0m\u001b[0m_validate_key\u001b[0m\u001b[1;33m(\u001b[0m\u001b[0mk\u001b[0m\u001b[1;33m,\u001b[0m \u001b[0mi\u001b[0m\u001b[1;33m)\u001b[0m\u001b[1;33m\u001b[0m\u001b[1;33m\u001b[0m\u001b[0m\n",
      "\u001b[1;31mIndexingError\u001b[0m: Too many indexers"
     ]
    }
   ],
   "source": [
    "## Create some subsets of data ##\n",
    "\n",
    "# Create subset by specifying the exact\n",
    "# column names we want to include in the subset\n",
    "\n",
    "#personalitySubset = data[['openness', 'conscientiousness', 'extraversion', 'agreeableness', 'neuroticism']]\n",
    "#personalitySubset.head()\n",
    "\n",
    "# Create the subset by specifying which\n",
    "# column range we want to include in the subset\n",
    "\n",
    "otherSubset = data.iloc[:, 4:9]\n",
    "otherSubset.head()\n",
    "\n",
    "# Select subset of data based on\n",
    "# A given row (observation)\n",
    "#data.loc[0]"
   ]
  },
  {
   "cell_type": "code",
   "execution_count": null,
   "metadata": {},
   "outputs": [],
   "source": []
  }
 ],
 "metadata": {
  "language_info": {
   "name": "python",
   "codemirror_mode": {
    "name": "ipython",
    "version": 3
   },
   "version": "3.7.7-final"
  },
  "orig_nbformat": 2,
  "file_extension": ".py",
  "mimetype": "text/x-python",
  "name": "python",
  "npconvert_exporter": "python",
  "pygments_lexer": "ipython3",
  "version": 3,
  "kernelspec": {
   "name": "python3",
   "display_name": "Python 3"
  }
 },
 "nbformat": 4,
 "nbformat_minor": 2
}