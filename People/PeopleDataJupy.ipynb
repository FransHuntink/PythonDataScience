{
 "cells": [
  {
   "cell_type": "code",
   "execution_count": 7,
   "metadata": {},
   "outputs": [],
   "source": [
    "## Generate data from our simulated users ##\n",
    "\n",
    "# Reference the required imports for analysis\n",
    "from DataGenerator import DataGenerator\n",
    "from csv import writer\n",
    "import pandas as pd\n",
    "\n",
    "# TODO Figure out why this doesn't work?\n",
    "#rom faker import Faker\n",
    "#fake = Faker()\n",
    "\n",
    "#fake.name()\n",
    "# 'Lucy Cechtelar'\n",
    "\n",
    "generator = DataGenerator()\n",
    "\n",
    "def append_list_as_row(file_name, list_of_elem):\n",
    "    # Open file in append mode\n",
    "    with open(file_name, 'a+', newline='') as write_obj:\n",
    "        # Create a writer object from csv module\n",
    "        csv_writer = writer(write_obj)\n",
    "        # Add contents of list as last row in the csv file\n",
    "        csv_writer.writerow(list_of_elem)\n",
    "\n",
    "for x in range(0, 1000):\n",
    "    append_list_as_row('data.csv', generator.GeneratePersonData())\n"
   ]
  },
  {
   "cell_type": "code",
   "execution_count": 6,
   "metadata": {},
   "outputs": [
    {
     "output_type": "execute_result",
     "data": {
      "text/plain": "            name  gender  age    sexuality  openness  conscientiousness  \\\n0  Sten Dreundam  female   28           bi  0.967497           0.030984   \n1  Sten Dreundam    male   29  hereosexual  0.373017           0.068265   \n2  Sten Dreundam  female   45  hereosexual  0.804466           0.172346   \n3  Sten Dreundam    male   18  hereosexual  0.225163           0.862857   \n4  Sten Dreundam  female   50           bi  0.076317           0.363682   \n\n   extraversion  agreeableness  neuroticism         pets       sports  \\\n0      0.144996       0.452166     0.535876  enthousiast         none   \n1      0.422591       0.584765     0.198441  enthousiast  enthousiast   \n2      0.206633       0.545674     0.753612      opposed  enthousiast   \n3      0.691494       0.231801     0.001569      neutral  enthousiast   \n4      0.169268       0.135815     0.881707      neutral         none   \n\n        workout        travel outdoors    smoking relationshipType  \n0  occasionally      frequent  neutral  nonsmoker           closed  \n1   enthousiast      frequent   indoor  nonsmoker           closed  \n2  occasionally          none  neutral      heavy           closed  \n3          none  occasionally  neutral  nonsmoker           closed  \n4   enthousiast      frequent  neutral  nonsmoker           closed  ",
      "text/html": "<div>\n<style scoped>\n    .dataframe tbody tr th:only-of-type {\n        vertical-align: middle;\n    }\n\n    .dataframe tbody tr th {\n        vertical-align: top;\n    }\n\n    .dataframe thead th {\n        text-align: right;\n    }\n</style>\n<table border=\"1\" class=\"dataframe\">\n  <thead>\n    <tr style=\"text-align: right;\">\n      <th></th>\n      <th>name</th>\n      <th>gender</th>\n      <th>age</th>\n      <th>sexuality</th>\n      <th>openness</th>\n      <th>conscientiousness</th>\n      <th>extraversion</th>\n      <th>agreeableness</th>\n      <th>neuroticism</th>\n      <th>pets</th>\n      <th>sports</th>\n      <th>workout</th>\n      <th>travel</th>\n      <th>outdoors</th>\n      <th>smoking</th>\n      <th>relationshipType</th>\n    </tr>\n  </thead>\n  <tbody>\n    <tr>\n      <th>0</th>\n      <td>Sten Dreundam</td>\n      <td>female</td>\n      <td>28</td>\n      <td>bi</td>\n      <td>0.967497</td>\n      <td>0.030984</td>\n      <td>0.144996</td>\n      <td>0.452166</td>\n      <td>0.535876</td>\n      <td>enthousiast</td>\n      <td>none</td>\n      <td>occasionally</td>\n      <td>frequent</td>\n      <td>neutral</td>\n      <td>nonsmoker</td>\n      <td>closed</td>\n    </tr>\n    <tr>\n      <th>1</th>\n      <td>Sten Dreundam</td>\n      <td>male</td>\n      <td>29</td>\n      <td>hereosexual</td>\n      <td>0.373017</td>\n      <td>0.068265</td>\n      <td>0.422591</td>\n      <td>0.584765</td>\n      <td>0.198441</td>\n      <td>enthousiast</td>\n      <td>enthousiast</td>\n      <td>enthousiast</td>\n      <td>frequent</td>\n      <td>indoor</td>\n      <td>nonsmoker</td>\n      <td>closed</td>\n    </tr>\n    <tr>\n      <th>2</th>\n      <td>Sten Dreundam</td>\n      <td>female</td>\n      <td>45</td>\n      <td>hereosexual</td>\n      <td>0.804466</td>\n      <td>0.172346</td>\n      <td>0.206633</td>\n      <td>0.545674</td>\n      <td>0.753612</td>\n      <td>opposed</td>\n      <td>enthousiast</td>\n      <td>occasionally</td>\n      <td>none</td>\n      <td>neutral</td>\n      <td>heavy</td>\n      <td>closed</td>\n    </tr>\n    <tr>\n      <th>3</th>\n      <td>Sten Dreundam</td>\n      <td>male</td>\n      <td>18</td>\n      <td>hereosexual</td>\n      <td>0.225163</td>\n      <td>0.862857</td>\n      <td>0.691494</td>\n      <td>0.231801</td>\n      <td>0.001569</td>\n      <td>neutral</td>\n      <td>enthousiast</td>\n      <td>none</td>\n      <td>occasionally</td>\n      <td>neutral</td>\n      <td>nonsmoker</td>\n      <td>closed</td>\n    </tr>\n    <tr>\n      <th>4</th>\n      <td>Sten Dreundam</td>\n      <td>female</td>\n      <td>50</td>\n      <td>bi</td>\n      <td>0.076317</td>\n      <td>0.363682</td>\n      <td>0.169268</td>\n      <td>0.135815</td>\n      <td>0.881707</td>\n      <td>neutral</td>\n      <td>none</td>\n      <td>enthousiast</td>\n      <td>frequent</td>\n      <td>neutral</td>\n      <td>nonsmoker</td>\n      <td>closed</td>\n    </tr>\n  </tbody>\n</table>\n</div>"
     },
     "metadata": {},
     "execution_count": 6
    }
   ],
   "source": [
    "## Explore generated data ## \n",
    "\n",
    "data = pd.read_csv(\"data.csv\") \n",
    "# Preview the first 5 lines of the loaded data \n",
    "data.head()"
   ]
  },
  {
   "cell_type": "code",
   "execution_count": 8,
   "metadata": {},
   "outputs": [],
   "source": [
    "## Apply data validation in order to make\n",
    "## it possible to work with the data ##\n",
    "\n"
   ]
  },
  {
   "cell_type": "code",
   "execution_count": null,
   "metadata": {},
   "outputs": [],
   "source": []
  }
 ],
 "metadata": {
  "language_info": {
   "name": "python",
   "codemirror_mode": {
    "name": "ipython",
    "version": 3
   },
   "version": "3.7.7-final"
  },
  "orig_nbformat": 2,
  "file_extension": ".py",
  "mimetype": "text/x-python",
  "name": "python",
  "npconvert_exporter": "python",
  "pygments_lexer": "ipython3",
  "version": 3,
  "kernelspec": {
   "name": "python3",
   "display_name": "Python 3"
  }
 },
 "nbformat": 4,
 "nbformat_minor": 2
}