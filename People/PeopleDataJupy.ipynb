{
 "cells": [
  {
   "cell_type": "code",
   "execution_count": 3,
   "metadata": {},
   "outputs": [],
   "source": [
    "## Generate data from our simulated users ##\n",
    "\n",
    "# Reference the required imports for analysis\n",
    "from DataGenerator import DataGenerator\n",
    "from csv import writer\n",
    "import pandas as pd\n",
    "\n",
    "# TODO Figure out why this doesn't work?\n",
    "#rom faker import Faker\n",
    "#fake = Faker()\n",
    "\n",
    "#fake.name()\n",
    "# 'Lucy Cechtelar'\n",
    "\n",
    "generator = DataGenerator()\n",
    "\n",
    "def append_list_as_row(file_name, list_of_elem):\n",
    "    # Open file in append mode\n",
    "    with open(file_name, 'a+', newline='') as write_obj:\n",
    "        # Create a writer object from csv module\n",
    "        csv_writer = writer(write_obj)\n",
    "        # Add contents of list as last row in the csv file\n",
    "        csv_writer.writerow(list_of_elem)\n",
    "\n",
    "#for x in range(0, 1000):\n",
    "    #append_list_as_row('data.csv', generator.GeneratePersonData())\n"
   ]
  },
  {
   "cell_type": "code",
   "execution_count": 27,
   "metadata": {},
   "outputs": [
    {
     "output_type": "execute_result",
     "data": {
      "text/plain": "            name  gender  age    sexuality  openness  conscientiousness  \\\n0  Sten Dreundam    male   39  hereosexual  0.941028           0.065259   \n1  Sten Dreundam  female   40          gay  0.976469           0.762061   \n2  Sten Dreundam  female   32          gay  0.968884           0.041040   \n3  Sten Dreundam  female   34  hereosexual  0.215803           0.799407   \n4  Sten Dreundam    male   44          gay  0.622613           0.926410   \n\n   extraversion  agreeableness  neuroticism         pets   sports  \\\n0      0.339007       0.489751     0.240263  enthousiast  neutral   \n1      0.931999       0.651381     0.128516  enthousiast  neutral   \n2      0.107363       0.251484     0.417581      neutral  neutral   \n3      0.081593       0.021496     0.055701      neutral  neutral   \n4      0.393675       0.870324     0.236938      opposed  neutral   \n\n        workout        travel outdoors     smoking relationshipType  \n0  occasionally          none  neutral   nonsmoker           closed  \n1   enthousiast          none   indoor  occasional           closed  \n2   enthousiast      frequent  neutral   nonsmoker           closed  \n3          none  occasionally  outdoor   nonsmoker           closed  \n4   enthousiast  occasionally   indoor   nonsmoker           closed  ",
      "text/html": "<div>\n<style scoped>\n    .dataframe tbody tr th:only-of-type {\n        vertical-align: middle;\n    }\n\n    .dataframe tbody tr th {\n        vertical-align: top;\n    }\n\n    .dataframe thead th {\n        text-align: right;\n    }\n</style>\n<table border=\"1\" class=\"dataframe\">\n  <thead>\n    <tr style=\"text-align: right;\">\n      <th></th>\n      <th>name</th>\n      <th>gender</th>\n      <th>age</th>\n      <th>sexuality</th>\n      <th>openness</th>\n      <th>conscientiousness</th>\n      <th>extraversion</th>\n      <th>agreeableness</th>\n      <th>neuroticism</th>\n      <th>pets</th>\n      <th>sports</th>\n      <th>workout</th>\n      <th>travel</th>\n      <th>outdoors</th>\n      <th>smoking</th>\n      <th>relationshipType</th>\n    </tr>\n  </thead>\n  <tbody>\n    <tr>\n      <th>0</th>\n      <td>Sten Dreundam</td>\n      <td>male</td>\n      <td>39</td>\n      <td>hereosexual</td>\n      <td>0.941028</td>\n      <td>0.065259</td>\n      <td>0.339007</td>\n      <td>0.489751</td>\n      <td>0.240263</td>\n      <td>enthousiast</td>\n      <td>neutral</td>\n      <td>occasionally</td>\n      <td>none</td>\n      <td>neutral</td>\n      <td>nonsmoker</td>\n      <td>closed</td>\n    </tr>\n    <tr>\n      <th>1</th>\n      <td>Sten Dreundam</td>\n      <td>female</td>\n      <td>40</td>\n      <td>gay</td>\n      <td>0.976469</td>\n      <td>0.762061</td>\n      <td>0.931999</td>\n      <td>0.651381</td>\n      <td>0.128516</td>\n      <td>enthousiast</td>\n      <td>neutral</td>\n      <td>enthousiast</td>\n      <td>none</td>\n      <td>indoor</td>\n      <td>occasional</td>\n      <td>closed</td>\n    </tr>\n    <tr>\n      <th>2</th>\n      <td>Sten Dreundam</td>\n      <td>female</td>\n      <td>32</td>\n      <td>gay</td>\n      <td>0.968884</td>\n      <td>0.041040</td>\n      <td>0.107363</td>\n      <td>0.251484</td>\n      <td>0.417581</td>\n      <td>neutral</td>\n      <td>neutral</td>\n      <td>enthousiast</td>\n      <td>frequent</td>\n      <td>neutral</td>\n      <td>nonsmoker</td>\n      <td>closed</td>\n    </tr>\n    <tr>\n      <th>3</th>\n      <td>Sten Dreundam</td>\n      <td>female</td>\n      <td>34</td>\n      <td>hereosexual</td>\n      <td>0.215803</td>\n      <td>0.799407</td>\n      <td>0.081593</td>\n      <td>0.021496</td>\n      <td>0.055701</td>\n      <td>neutral</td>\n      <td>neutral</td>\n      <td>none</td>\n      <td>occasionally</td>\n      <td>outdoor</td>\n      <td>nonsmoker</td>\n      <td>closed</td>\n    </tr>\n    <tr>\n      <th>4</th>\n      <td>Sten Dreundam</td>\n      <td>male</td>\n      <td>44</td>\n      <td>gay</td>\n      <td>0.622613</td>\n      <td>0.926410</td>\n      <td>0.393675</td>\n      <td>0.870324</td>\n      <td>0.236938</td>\n      <td>opposed</td>\n      <td>neutral</td>\n      <td>enthousiast</td>\n      <td>occasionally</td>\n      <td>indoor</td>\n      <td>nonsmoker</td>\n      <td>closed</td>\n    </tr>\n  </tbody>\n</table>\n</div>"
     },
     "metadata": {},
     "execution_count": 27
    }
   ],
   "source": [
    "## Explore generated data ## \n",
    "\n",
    "data = pd.read_csv(\"data.csv\") \n",
    "# Preview the first 5 lines of the loaded data \n",
    "data.head()"
   ]
  },
  {
   "cell_type": "code",
   "execution_count": 28,
   "metadata": {},
   "outputs": [
    {
     "output_type": "execute_result",
     "data": {
      "text/plain": "             name  gender  age    sexuality  openness  conscientiousness  \\\n0   Sten Dreundam    male   39  hereosexual  0.941028           0.065259   \n1   Sten Dreundam  female   40          gay  0.976469           0.762061   \n2   Sten Dreundam  female   32          gay  0.968884           0.041040   \n3   Sten Dreundam  female   34  hereosexual  0.215803           0.799407   \n4   Sten Dreundam    male   44          gay  0.622613           0.926410   \n5   Sten Dreundam  female   28  hereosexual  0.246344           0.194324   \n6   Sten Dreundam    male   28          gay  0.910083           0.400162   \n7   Sten Dreundam    male   29  hereosexual  0.119106           0.596662   \n8   Sten Dreundam  female   50          gay  0.742048           0.220381   \n9   Sten Dreundam    male   32  hereosexual  0.664752           0.611301   \n10  Sten Dreundam  female   32  hereosexual  0.304486           0.916276   \n11  Sten Dreundam    male   27  hereosexual  0.875397           0.770628   \n12  Sten Dreundam    male   19  hereosexual  0.153477           0.381874   \n13  Sten Dreundam    male   25          gay  0.765274           0.304520   \n14  Sten Dreundam  female   44  hereosexual  0.440161           0.065027   \n\n    extraversion  agreeableness  neuroticism         pets       sports  \\\n0       0.339007       0.489751     0.240263  enthousiast      neutral   \n1       0.931999       0.651381     0.128516  enthousiast      neutral   \n2       0.107363       0.251484     0.417581      neutral      neutral   \n3       0.081593       0.021496     0.055701      neutral      neutral   \n4       0.393675       0.870324     0.236938      opposed      neutral   \n5       0.598217       0.331318     0.608629  enthousiast      neutral   \n6       0.376646       0.475185     0.935256      neutral      neutral   \n7       0.556635       0.196927     0.735113  enthousiast      neutral   \n8       0.840846       0.819496     0.978153      neutral         none   \n9       0.775728       0.868124     0.181525      neutral         none   \n10      0.111102       0.271681     0.425003      opposed         none   \n11      0.922590       0.727769     0.866909      opposed      neutral   \n12      0.756162       0.033062     0.314267      opposed         none   \n13      0.229656       0.851127     0.028327      neutral         none   \n14      0.471323       0.196590     0.210277      neutral  enthousiast   \n\n         workout        travel outdoors  smoking  relationshipType  \n0   occasionally          none  neutral        0                 0  \n1    enthousiast          none   indoor        1                 0  \n2    enthousiast      frequent  neutral        0                 0  \n3           none  occasionally  outdoor        0                 0  \n4    enthousiast  occasionally   indoor        0                 0  \n5   occasionally  occasionally  neutral        0                 0  \n6    enthousiast  occasionally  neutral        1                 0  \n7   occasionally  occasionally   indoor        0                 0  \n8   occasionally  occasionally  neutral        0                 0  \n9           none  occasionally  neutral        1                 0  \n10  occasionally  occasionally  neutral        2                 0  \n11  occasionally  occasionally  outdoor        0                 1  \n12   enthousiast  occasionally  neutral        0                 1  \n13          none  occasionally  neutral        2                 0  \n14          none          none   indoor        0                 0  ",
      "text/html": "<div>\n<style scoped>\n    .dataframe tbody tr th:only-of-type {\n        vertical-align: middle;\n    }\n\n    .dataframe tbody tr th {\n        vertical-align: top;\n    }\n\n    .dataframe thead th {\n        text-align: right;\n    }\n</style>\n<table border=\"1\" class=\"dataframe\">\n  <thead>\n    <tr style=\"text-align: right;\">\n      <th></th>\n      <th>name</th>\n      <th>gender</th>\n      <th>age</th>\n      <th>sexuality</th>\n      <th>openness</th>\n      <th>conscientiousness</th>\n      <th>extraversion</th>\n      <th>agreeableness</th>\n      <th>neuroticism</th>\n      <th>pets</th>\n      <th>sports</th>\n      <th>workout</th>\n      <th>travel</th>\n      <th>outdoors</th>\n      <th>smoking</th>\n      <th>relationshipType</th>\n    </tr>\n  </thead>\n  <tbody>\n    <tr>\n      <th>0</th>\n      <td>Sten Dreundam</td>\n      <td>male</td>\n      <td>39</td>\n      <td>hereosexual</td>\n      <td>0.941028</td>\n      <td>0.065259</td>\n      <td>0.339007</td>\n      <td>0.489751</td>\n      <td>0.240263</td>\n      <td>enthousiast</td>\n      <td>neutral</td>\n      <td>occasionally</td>\n      <td>none</td>\n      <td>neutral</td>\n      <td>0</td>\n      <td>0</td>\n    </tr>\n    <tr>\n      <th>1</th>\n      <td>Sten Dreundam</td>\n      <td>female</td>\n      <td>40</td>\n      <td>gay</td>\n      <td>0.976469</td>\n      <td>0.762061</td>\n      <td>0.931999</td>\n      <td>0.651381</td>\n      <td>0.128516</td>\n      <td>enthousiast</td>\n      <td>neutral</td>\n      <td>enthousiast</td>\n      <td>none</td>\n      <td>indoor</td>\n      <td>1</td>\n      <td>0</td>\n    </tr>\n    <tr>\n      <th>2</th>\n      <td>Sten Dreundam</td>\n      <td>female</td>\n      <td>32</td>\n      <td>gay</td>\n      <td>0.968884</td>\n      <td>0.041040</td>\n      <td>0.107363</td>\n      <td>0.251484</td>\n      <td>0.417581</td>\n      <td>neutral</td>\n      <td>neutral</td>\n      <td>enthousiast</td>\n      <td>frequent</td>\n      <td>neutral</td>\n      <td>0</td>\n      <td>0</td>\n    </tr>\n    <tr>\n      <th>3</th>\n      <td>Sten Dreundam</td>\n      <td>female</td>\n      <td>34</td>\n      <td>hereosexual</td>\n      <td>0.215803</td>\n      <td>0.799407</td>\n      <td>0.081593</td>\n      <td>0.021496</td>\n      <td>0.055701</td>\n      <td>neutral</td>\n      <td>neutral</td>\n      <td>none</td>\n      <td>occasionally</td>\n      <td>outdoor</td>\n      <td>0</td>\n      <td>0</td>\n    </tr>\n    <tr>\n      <th>4</th>\n      <td>Sten Dreundam</td>\n      <td>male</td>\n      <td>44</td>\n      <td>gay</td>\n      <td>0.622613</td>\n      <td>0.926410</td>\n      <td>0.393675</td>\n      <td>0.870324</td>\n      <td>0.236938</td>\n      <td>opposed</td>\n      <td>neutral</td>\n      <td>enthousiast</td>\n      <td>occasionally</td>\n      <td>indoor</td>\n      <td>0</td>\n      <td>0</td>\n    </tr>\n    <tr>\n      <th>5</th>\n      <td>Sten Dreundam</td>\n      <td>female</td>\n      <td>28</td>\n      <td>hereosexual</td>\n      <td>0.246344</td>\n      <td>0.194324</td>\n      <td>0.598217</td>\n      <td>0.331318</td>\n      <td>0.608629</td>\n      <td>enthousiast</td>\n      <td>neutral</td>\n      <td>occasionally</td>\n      <td>occasionally</td>\n      <td>neutral</td>\n      <td>0</td>\n      <td>0</td>\n    </tr>\n    <tr>\n      <th>6</th>\n      <td>Sten Dreundam</td>\n      <td>male</td>\n      <td>28</td>\n      <td>gay</td>\n      <td>0.910083</td>\n      <td>0.400162</td>\n      <td>0.376646</td>\n      <td>0.475185</td>\n      <td>0.935256</td>\n      <td>neutral</td>\n      <td>neutral</td>\n      <td>enthousiast</td>\n      <td>occasionally</td>\n      <td>neutral</td>\n      <td>1</td>\n      <td>0</td>\n    </tr>\n    <tr>\n      <th>7</th>\n      <td>Sten Dreundam</td>\n      <td>male</td>\n      <td>29</td>\n      <td>hereosexual</td>\n      <td>0.119106</td>\n      <td>0.596662</td>\n      <td>0.556635</td>\n      <td>0.196927</td>\n      <td>0.735113</td>\n      <td>enthousiast</td>\n      <td>neutral</td>\n      <td>occasionally</td>\n      <td>occasionally</td>\n      <td>indoor</td>\n      <td>0</td>\n      <td>0</td>\n    </tr>\n    <tr>\n      <th>8</th>\n      <td>Sten Dreundam</td>\n      <td>female</td>\n      <td>50</td>\n      <td>gay</td>\n      <td>0.742048</td>\n      <td>0.220381</td>\n      <td>0.840846</td>\n      <td>0.819496</td>\n      <td>0.978153</td>\n      <td>neutral</td>\n      <td>none</td>\n      <td>occasionally</td>\n      <td>occasionally</td>\n      <td>neutral</td>\n      <td>0</td>\n      <td>0</td>\n    </tr>\n    <tr>\n      <th>9</th>\n      <td>Sten Dreundam</td>\n      <td>male</td>\n      <td>32</td>\n      <td>hereosexual</td>\n      <td>0.664752</td>\n      <td>0.611301</td>\n      <td>0.775728</td>\n      <td>0.868124</td>\n      <td>0.181525</td>\n      <td>neutral</td>\n      <td>none</td>\n      <td>none</td>\n      <td>occasionally</td>\n      <td>neutral</td>\n      <td>1</td>\n      <td>0</td>\n    </tr>\n    <tr>\n      <th>10</th>\n      <td>Sten Dreundam</td>\n      <td>female</td>\n      <td>32</td>\n      <td>hereosexual</td>\n      <td>0.304486</td>\n      <td>0.916276</td>\n      <td>0.111102</td>\n      <td>0.271681</td>\n      <td>0.425003</td>\n      <td>opposed</td>\n      <td>none</td>\n      <td>occasionally</td>\n      <td>occasionally</td>\n      <td>neutral</td>\n      <td>2</td>\n      <td>0</td>\n    </tr>\n    <tr>\n      <th>11</th>\n      <td>Sten Dreundam</td>\n      <td>male</td>\n      <td>27</td>\n      <td>hereosexual</td>\n      <td>0.875397</td>\n      <td>0.770628</td>\n      <td>0.922590</td>\n      <td>0.727769</td>\n      <td>0.866909</td>\n      <td>opposed</td>\n      <td>neutral</td>\n      <td>occasionally</td>\n      <td>occasionally</td>\n      <td>outdoor</td>\n      <td>0</td>\n      <td>1</td>\n    </tr>\n    <tr>\n      <th>12</th>\n      <td>Sten Dreundam</td>\n      <td>male</td>\n      <td>19</td>\n      <td>hereosexual</td>\n      <td>0.153477</td>\n      <td>0.381874</td>\n      <td>0.756162</td>\n      <td>0.033062</td>\n      <td>0.314267</td>\n      <td>opposed</td>\n      <td>none</td>\n      <td>enthousiast</td>\n      <td>occasionally</td>\n      <td>neutral</td>\n      <td>0</td>\n      <td>1</td>\n    </tr>\n    <tr>\n      <th>13</th>\n      <td>Sten Dreundam</td>\n      <td>male</td>\n      <td>25</td>\n      <td>gay</td>\n      <td>0.765274</td>\n      <td>0.304520</td>\n      <td>0.229656</td>\n      <td>0.851127</td>\n      <td>0.028327</td>\n      <td>neutral</td>\n      <td>none</td>\n      <td>none</td>\n      <td>occasionally</td>\n      <td>neutral</td>\n      <td>2</td>\n      <td>0</td>\n    </tr>\n    <tr>\n      <th>14</th>\n      <td>Sten Dreundam</td>\n      <td>female</td>\n      <td>44</td>\n      <td>hereosexual</td>\n      <td>0.440161</td>\n      <td>0.065027</td>\n      <td>0.471323</td>\n      <td>0.196590</td>\n      <td>0.210277</td>\n      <td>neutral</td>\n      <td>enthousiast</td>\n      <td>none</td>\n      <td>none</td>\n      <td>indoor</td>\n      <td>0</td>\n      <td>0</td>\n    </tr>\n  </tbody>\n</table>\n</div>"
     },
     "metadata": {},
     "execution_count": 28
    }
   ],
   "source": [
    "## Apply data validation in order to make\n",
    "## it possible to work with the data ##\n",
    "\n",
    "\n",
    "# Codify the string values to numerical\n",
    "# Values for the model to make sense of\n",
    "data.replace({'closed': 0, 'open': 1}, inplace=True)\n",
    "data['smoking'].replace({'nonsmoker': 0, 'occasional': 1, 'heavy': 2}, inplace=True)\n",
    "data.head(15)\n",
    "\n"
   ]
  },
  {
   "cell_type": "code",
   "execution_count": 46,
   "metadata": {},
   "outputs": [
    {
     "output_type": "error",
     "ename": "IndexingError",
     "evalue": "Too many indexers",
     "traceback": [
      "\u001b[1;31m---------------------------------------------------------------------------\u001b[0m",
      "\u001b[1;31mIndexingError\u001b[0m                             Traceback (most recent call last)",
      "\u001b[1;32m<ipython-input-46-638022740a32>\u001b[0m in \u001b[0;36m<module>\u001b[1;34m\u001b[0m\n\u001b[0;32m      7\u001b[0m \u001b[1;31m#personalitySubset.head()\u001b[0m\u001b[1;33m\u001b[0m\u001b[1;33m\u001b[0m\u001b[1;33m\u001b[0m\u001b[0m\n\u001b[0;32m      8\u001b[0m \u001b[1;33m\u001b[0m\u001b[0m\n\u001b[1;32m----> 9\u001b[1;33m \u001b[0motherSubset\u001b[0m \u001b[1;33m=\u001b[0m \u001b[0mdata\u001b[0m\u001b[1;33m.\u001b[0m\u001b[0miloc\u001b[0m\u001b[1;33m[\u001b[0m\u001b[1;33m:\u001b[0m\u001b[1;33m,\u001b[0m \u001b[1;36m4\u001b[0m\u001b[1;33m,\u001b[0m\u001b[1;36m5\u001b[0m\u001b[1;33m]\u001b[0m\u001b[1;33m\u001b[0m\u001b[1;33m\u001b[0m\u001b[0m\n\u001b[0m\u001b[0;32m     10\u001b[0m \u001b[0motherSubset\u001b[0m\u001b[1;33m.\u001b[0m\u001b[0mhead\u001b[0m\u001b[1;33m(\u001b[0m\u001b[1;33m)\u001b[0m\u001b[1;33m\u001b[0m\u001b[1;33m\u001b[0m\u001b[0m\n\u001b[0;32m     11\u001b[0m \u001b[1;33m\u001b[0m\u001b[0m\n",
      "\u001b[1;32m~\\Miniconda3\\envs\\myenv\\lib\\site-packages\\pandas\\core\\indexing.py\u001b[0m in \u001b[0;36m__getitem__\u001b[1;34m(self, key)\u001b[0m\n\u001b[0;32m   1760\u001b[0m                 \u001b[1;32mexcept\u001b[0m \u001b[1;33m(\u001b[0m\u001b[0mKeyError\u001b[0m\u001b[1;33m,\u001b[0m \u001b[0mIndexError\u001b[0m\u001b[1;33m,\u001b[0m \u001b[0mAttributeError\u001b[0m\u001b[1;33m)\u001b[0m\u001b[1;33m:\u001b[0m\u001b[1;33m\u001b[0m\u001b[1;33m\u001b[0m\u001b[0m\n\u001b[0;32m   1761\u001b[0m                     \u001b[1;32mpass\u001b[0m\u001b[1;33m\u001b[0m\u001b[1;33m\u001b[0m\u001b[0m\n\u001b[1;32m-> 1762\u001b[1;33m             \u001b[1;32mreturn\u001b[0m \u001b[0mself\u001b[0m\u001b[1;33m.\u001b[0m\u001b[0m_getitem_tuple\u001b[0m\u001b[1;33m(\u001b[0m\u001b[0mkey\u001b[0m\u001b[1;33m)\u001b[0m\u001b[1;33m\u001b[0m\u001b[1;33m\u001b[0m\u001b[0m\n\u001b[0m\u001b[0;32m   1763\u001b[0m         \u001b[1;32melse\u001b[0m\u001b[1;33m:\u001b[0m\u001b[1;33m\u001b[0m\u001b[1;33m\u001b[0m\u001b[0m\n\u001b[0;32m   1764\u001b[0m             \u001b[1;31m# we by definition only have the 0th axis\u001b[0m\u001b[1;33m\u001b[0m\u001b[1;33m\u001b[0m\u001b[1;33m\u001b[0m\u001b[0m\n",
      "\u001b[1;32m~\\Miniconda3\\envs\\myenv\\lib\\site-packages\\pandas\\core\\indexing.py\u001b[0m in \u001b[0;36m_getitem_tuple\u001b[1;34m(self, tup)\u001b[0m\n\u001b[0;32m   2065\u001b[0m     \u001b[1;32mdef\u001b[0m \u001b[0m_getitem_tuple\u001b[0m\u001b[1;33m(\u001b[0m\u001b[0mself\u001b[0m\u001b[1;33m,\u001b[0m \u001b[0mtup\u001b[0m\u001b[1;33m:\u001b[0m \u001b[0mTuple\u001b[0m\u001b[1;33m)\u001b[0m\u001b[1;33m:\u001b[0m\u001b[1;33m\u001b[0m\u001b[1;33m\u001b[0m\u001b[0m\n\u001b[0;32m   2066\u001b[0m \u001b[1;33m\u001b[0m\u001b[0m\n\u001b[1;32m-> 2067\u001b[1;33m         \u001b[0mself\u001b[0m\u001b[1;33m.\u001b[0m\u001b[0m_has_valid_tuple\u001b[0m\u001b[1;33m(\u001b[0m\u001b[0mtup\u001b[0m\u001b[1;33m)\u001b[0m\u001b[1;33m\u001b[0m\u001b[1;33m\u001b[0m\u001b[0m\n\u001b[0m\u001b[0;32m   2068\u001b[0m         \u001b[1;32mtry\u001b[0m\u001b[1;33m:\u001b[0m\u001b[1;33m\u001b[0m\u001b[1;33m\u001b[0m\u001b[0m\n\u001b[0;32m   2069\u001b[0m             \u001b[1;32mreturn\u001b[0m \u001b[0mself\u001b[0m\u001b[1;33m.\u001b[0m\u001b[0m_getitem_lowerdim\u001b[0m\u001b[1;33m(\u001b[0m\u001b[0mtup\u001b[0m\u001b[1;33m)\u001b[0m\u001b[1;33m\u001b[0m\u001b[1;33m\u001b[0m\u001b[0m\n",
      "\u001b[1;32m~\\Miniconda3\\envs\\myenv\\lib\\site-packages\\pandas\\core\\indexing.py\u001b[0m in \u001b[0;36m_has_valid_tuple\u001b[1;34m(self, key)\u001b[0m\n\u001b[0;32m    699\u001b[0m         \u001b[1;32mfor\u001b[0m \u001b[0mi\u001b[0m\u001b[1;33m,\u001b[0m \u001b[0mk\u001b[0m \u001b[1;32min\u001b[0m \u001b[0menumerate\u001b[0m\u001b[1;33m(\u001b[0m\u001b[0mkey\u001b[0m\u001b[1;33m)\u001b[0m\u001b[1;33m:\u001b[0m\u001b[1;33m\u001b[0m\u001b[1;33m\u001b[0m\u001b[0m\n\u001b[0;32m    700\u001b[0m             \u001b[1;32mif\u001b[0m \u001b[0mi\u001b[0m \u001b[1;33m>=\u001b[0m \u001b[0mself\u001b[0m\u001b[1;33m.\u001b[0m\u001b[0mndim\u001b[0m\u001b[1;33m:\u001b[0m\u001b[1;33m\u001b[0m\u001b[1;33m\u001b[0m\u001b[0m\n\u001b[1;32m--> 701\u001b[1;33m                 \u001b[1;32mraise\u001b[0m \u001b[0mIndexingError\u001b[0m\u001b[1;33m(\u001b[0m\u001b[1;34m\"Too many indexers\"\u001b[0m\u001b[1;33m)\u001b[0m\u001b[1;33m\u001b[0m\u001b[1;33m\u001b[0m\u001b[0m\n\u001b[0m\u001b[0;32m    702\u001b[0m             \u001b[1;32mtry\u001b[0m\u001b[1;33m:\u001b[0m\u001b[1;33m\u001b[0m\u001b[1;33m\u001b[0m\u001b[0m\n\u001b[0;32m    703\u001b[0m                 \u001b[0mself\u001b[0m\u001b[1;33m.\u001b[0m\u001b[0m_validate_key\u001b[0m\u001b[1;33m(\u001b[0m\u001b[0mk\u001b[0m\u001b[1;33m,\u001b[0m \u001b[0mi\u001b[0m\u001b[1;33m)\u001b[0m\u001b[1;33m\u001b[0m\u001b[1;33m\u001b[0m\u001b[0m\n",
      "\u001b[1;31mIndexingError\u001b[0m: Too many indexers"
     ]
    }
   ],
   "source": [
    "## Create some subsets of data ##\n",
    "\n",
    "# Create subset by specifying the exact\n",
    "# column names we want to include in the subset\n",
    "\n",
    "#personalitySubset = data[['openness', 'conscientiousness', 'extraversion', 'agreeableness', 'neuroticism']]\n",
    "#personalitySubset.head()\n",
    "\n",
    "# Create the subset by specifying which\n",
    "# column range we want to include in the subset\n",
    "\n",
    "otherSubset = data.iloc[:, 4:9]\n",
    "otherSubset.head()\n",
    "\n",
    "# Select subset of data based on\n",
    "# A given row (observation)\n",
    "#data.loc[0]"
   ]
  },
  {
   "cell_type": "code",
   "execution_count": null,
   "metadata": {},
   "outputs": [],
   "source": []
  }
 ],
 "metadata": {
  "language_info": {
   "name": "python",
   "codemirror_mode": {
    "name": "ipython",
    "version": 3
   },
   "version": "3.7.7-final"
  },
  "orig_nbformat": 2,
  "file_extension": ".py",
  "mimetype": "text/x-python",
  "name": "python",
  "npconvert_exporter": "python",
  "pygments_lexer": "ipython3",
  "version": 3,
  "kernelspec": {
   "name": "python3",
   "display_name": "Python 3"
  }
 },
 "nbformat": 4,
 "nbformat_minor": 2
}