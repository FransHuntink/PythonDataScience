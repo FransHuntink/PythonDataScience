{
 "cells": [
  {
   "cell_type": "code",
   "execution_count": 1,
   "metadata": {},
   "outputs": [],
   "source": [
    "## Generate data from our simulated users ##\n",
    "\n",
    "# Reference the required imports for analysis\n",
    "from DataGenerator import DataGenerator\n",
    "from csv import writer\n",
    "import pandas as pd\n",
    "\n",
    "generator = DataGenerator()\n",
    "\n",
    "def append_list_as_row(file_name, list_of_elem):\n",
    "    # Open file in append mode\n",
    "    with open(file_name, 'a+', newline='') as write_obj:\n",
    "        # Create a writer object from csv module\n",
    "        csv_writer = writer(write_obj)\n",
    "        # Add contents of list as last row in the csv file\n",
    "        csv_writer.writerow(list_of_elem)\n",
    "\n",
    "for x in range(0, 5):\n",
    "    append_list_as_row('data.csv', generator.GeneratePersonData())\n"
   ]
  },
  {
   "cell_type": "code",
   "execution_count": 3,
   "metadata": {},
   "outputs": [
    {
     "output_type": "execute_result",
     "data": {
      "text/plain": "              name  gender  age     sexuality  openness  conscientiousness  \\\n0     Patrick Wolf  female   18  heterosexual  0.019272           0.753578   \n1  Austin Fletcher  female   18  heterosexual  0.158774           0.873202   \n2     Karen Nelson  female   34  heterosexual  0.540267           0.338295   \n3    Brittany Wade  female   19           gay  0.163366           0.659646   \n4    Frank Mcclure    male   28  heterosexual  0.600429           0.769614   \n\n   extraversion  agreeableness  neuroticism  pets sports  workout      travel  \\\n0      0.401110       0.778274     0.987281     0     no        0    frequent   \n1      0.323967       0.981618     0.766964     2     no        1        none   \n2      0.734013       0.230614     0.986058     3    yes        2    frequent   \n3      0.998051       0.572790     0.807712     1     no        4  occasional   \n4      0.280889       0.614203     0.186072     4    yes        1  occasional   \n\n  outdoors     smoking relationshiptype   facebookfriends   prevrelationships  \n0   indoor  occasional           closed               876                   1  \n1  outdoor       heavy           closed               251                   4  \n2  outdoor  occasional           closed               389                   1  \n3  outdoor   nonsmoker           closed               801                   1  \n4  outdoor  occasional           closed               563                   3  ",
      "text/html": "<div>\n<style scoped>\n    .dataframe tbody tr th:only-of-type {\n        vertical-align: middle;\n    }\n\n    .dataframe tbody tr th {\n        vertical-align: top;\n    }\n\n    .dataframe thead th {\n        text-align: right;\n    }\n</style>\n<table border=\"1\" class=\"dataframe\">\n  <thead>\n    <tr style=\"text-align: right;\">\n      <th></th>\n      <th>name</th>\n      <th>gender</th>\n      <th>age</th>\n      <th>sexuality</th>\n      <th>openness</th>\n      <th>conscientiousness</th>\n      <th>extraversion</th>\n      <th>agreeableness</th>\n      <th>neuroticism</th>\n      <th>pets</th>\n      <th>sports</th>\n      <th>workout</th>\n      <th>travel</th>\n      <th>outdoors</th>\n      <th>smoking</th>\n      <th>relationshiptype</th>\n      <th>facebookfriends</th>\n      <th>prevrelationships</th>\n    </tr>\n  </thead>\n  <tbody>\n    <tr>\n      <th>0</th>\n      <td>Patrick Wolf</td>\n      <td>female</td>\n      <td>18</td>\n      <td>heterosexual</td>\n      <td>0.019272</td>\n      <td>0.753578</td>\n      <td>0.401110</td>\n      <td>0.778274</td>\n      <td>0.987281</td>\n      <td>0</td>\n      <td>no</td>\n      <td>0</td>\n      <td>frequent</td>\n      <td>indoor</td>\n      <td>occasional</td>\n      <td>closed</td>\n      <td>876</td>\n      <td>1</td>\n    </tr>\n    <tr>\n      <th>1</th>\n      <td>Austin Fletcher</td>\n      <td>female</td>\n      <td>18</td>\n      <td>heterosexual</td>\n      <td>0.158774</td>\n      <td>0.873202</td>\n      <td>0.323967</td>\n      <td>0.981618</td>\n      <td>0.766964</td>\n      <td>2</td>\n      <td>no</td>\n      <td>1</td>\n      <td>none</td>\n      <td>outdoor</td>\n      <td>heavy</td>\n      <td>closed</td>\n      <td>251</td>\n      <td>4</td>\n    </tr>\n    <tr>\n      <th>2</th>\n      <td>Karen Nelson</td>\n      <td>female</td>\n      <td>34</td>\n      <td>heterosexual</td>\n      <td>0.540267</td>\n      <td>0.338295</td>\n      <td>0.734013</td>\n      <td>0.230614</td>\n      <td>0.986058</td>\n      <td>3</td>\n      <td>yes</td>\n      <td>2</td>\n      <td>frequent</td>\n      <td>outdoor</td>\n      <td>occasional</td>\n      <td>closed</td>\n      <td>389</td>\n      <td>1</td>\n    </tr>\n    <tr>\n      <th>3</th>\n      <td>Brittany Wade</td>\n      <td>female</td>\n      <td>19</td>\n      <td>gay</td>\n      <td>0.163366</td>\n      <td>0.659646</td>\n      <td>0.998051</td>\n      <td>0.572790</td>\n      <td>0.807712</td>\n      <td>1</td>\n      <td>no</td>\n      <td>4</td>\n      <td>occasional</td>\n      <td>outdoor</td>\n      <td>nonsmoker</td>\n      <td>closed</td>\n      <td>801</td>\n      <td>1</td>\n    </tr>\n    <tr>\n      <th>4</th>\n      <td>Frank Mcclure</td>\n      <td>male</td>\n      <td>28</td>\n      <td>heterosexual</td>\n      <td>0.600429</td>\n      <td>0.769614</td>\n      <td>0.280889</td>\n      <td>0.614203</td>\n      <td>0.186072</td>\n      <td>4</td>\n      <td>yes</td>\n      <td>1</td>\n      <td>occasional</td>\n      <td>outdoor</td>\n      <td>occasional</td>\n      <td>closed</td>\n      <td>563</td>\n      <td>3</td>\n    </tr>\n  </tbody>\n</table>\n</div>"
     },
     "metadata": {},
     "execution_count": 3
    }
   ],
   "source": [
    "## Explore generated data ## \n",
    "\n",
    "data = pd.read_csv(\"data.csv\") \n",
    "# Preview the first 5 lines of the loaded data \n",
    "data.head()"
   ]
  },
  {
   "cell_type": "code",
   "execution_count": 4,
   "metadata": {},
   "outputs": [
    {
     "output_type": "execute_result",
     "data": {
      "text/plain": "              name  gender  age     sexuality  openness  conscientiousness  \\\n0     Patrick Wolf  female   18  heterosexual  0.019272           0.753578   \n1  Austin Fletcher  female   18  heterosexual  0.158774           0.873202   \n2     Karen Nelson  female   34  heterosexual  0.540267           0.338295   \n3    Brittany Wade  female   19           gay  0.163366           0.659646   \n4    Frank Mcclure    male   28  heterosexual  0.600429           0.769614   \n\n   extraversion  agreeableness  neuroticism  pets sports  workout      travel  \\\n0      0.401110       0.778274     0.987281     0     no        0    frequent   \n1      0.323967       0.981618     0.766964     2     no        1        none   \n2      0.734013       0.230614     0.986058     3    yes        2    frequent   \n3      0.998051       0.572790     0.807712     1     no        4  occasional   \n4      0.280889       0.614203     0.186072     4    yes        1  occasional   \n\n  outdoors  smoking relationshiptype   facebookfriends   prevrelationships  \n0   indoor        1           closed               876                   1  \n1  outdoor        2           closed               251                   4  \n2  outdoor        1           closed               389                   1  \n3  outdoor        0           closed               801                   1  \n4  outdoor        1           closed               563                   3  ",
      "text/html": "<div>\n<style scoped>\n    .dataframe tbody tr th:only-of-type {\n        vertical-align: middle;\n    }\n\n    .dataframe tbody tr th {\n        vertical-align: top;\n    }\n\n    .dataframe thead th {\n        text-align: right;\n    }\n</style>\n<table border=\"1\" class=\"dataframe\">\n  <thead>\n    <tr style=\"text-align: right;\">\n      <th></th>\n      <th>name</th>\n      <th>gender</th>\n      <th>age</th>\n      <th>sexuality</th>\n      <th>openness</th>\n      <th>conscientiousness</th>\n      <th>extraversion</th>\n      <th>agreeableness</th>\n      <th>neuroticism</th>\n      <th>pets</th>\n      <th>sports</th>\n      <th>workout</th>\n      <th>travel</th>\n      <th>outdoors</th>\n      <th>smoking</th>\n      <th>relationshiptype</th>\n      <th>facebookfriends</th>\n      <th>prevrelationships</th>\n    </tr>\n  </thead>\n  <tbody>\n    <tr>\n      <th>0</th>\n      <td>Patrick Wolf</td>\n      <td>female</td>\n      <td>18</td>\n      <td>heterosexual</td>\n      <td>0.019272</td>\n      <td>0.753578</td>\n      <td>0.401110</td>\n      <td>0.778274</td>\n      <td>0.987281</td>\n      <td>0</td>\n      <td>no</td>\n      <td>0</td>\n      <td>frequent</td>\n      <td>indoor</td>\n      <td>1</td>\n      <td>closed</td>\n      <td>876</td>\n      <td>1</td>\n    </tr>\n    <tr>\n      <th>1</th>\n      <td>Austin Fletcher</td>\n      <td>female</td>\n      <td>18</td>\n      <td>heterosexual</td>\n      <td>0.158774</td>\n      <td>0.873202</td>\n      <td>0.323967</td>\n      <td>0.981618</td>\n      <td>0.766964</td>\n      <td>2</td>\n      <td>no</td>\n      <td>1</td>\n      <td>none</td>\n      <td>outdoor</td>\n      <td>2</td>\n      <td>closed</td>\n      <td>251</td>\n      <td>4</td>\n    </tr>\n    <tr>\n      <th>2</th>\n      <td>Karen Nelson</td>\n      <td>female</td>\n      <td>34</td>\n      <td>heterosexual</td>\n      <td>0.540267</td>\n      <td>0.338295</td>\n      <td>0.734013</td>\n      <td>0.230614</td>\n      <td>0.986058</td>\n      <td>3</td>\n      <td>yes</td>\n      <td>2</td>\n      <td>frequent</td>\n      <td>outdoor</td>\n      <td>1</td>\n      <td>closed</td>\n      <td>389</td>\n      <td>1</td>\n    </tr>\n    <tr>\n      <th>3</th>\n      <td>Brittany Wade</td>\n      <td>female</td>\n      <td>19</td>\n      <td>gay</td>\n      <td>0.163366</td>\n      <td>0.659646</td>\n      <td>0.998051</td>\n      <td>0.572790</td>\n      <td>0.807712</td>\n      <td>1</td>\n      <td>no</td>\n      <td>4</td>\n      <td>occasional</td>\n      <td>outdoor</td>\n      <td>0</td>\n      <td>closed</td>\n      <td>801</td>\n      <td>1</td>\n    </tr>\n    <tr>\n      <th>4</th>\n      <td>Frank Mcclure</td>\n      <td>male</td>\n      <td>28</td>\n      <td>heterosexual</td>\n      <td>0.600429</td>\n      <td>0.769614</td>\n      <td>0.280889</td>\n      <td>0.614203</td>\n      <td>0.186072</td>\n      <td>4</td>\n      <td>yes</td>\n      <td>1</td>\n      <td>occasional</td>\n      <td>outdoor</td>\n      <td>1</td>\n      <td>closed</td>\n      <td>563</td>\n      <td>3</td>\n    </tr>\n  </tbody>\n</table>\n</div>"
     },
     "metadata": {},
     "execution_count": 4
    }
   ],
   "source": [
    "## Apply data validation in order to make\n",
    "## it possible to work with the data ##\n",
    "\n",
    "\n",
    "# Codify the string values to numerical\n",
    "# Values for the model to make sense of\n",
    "#data.replace({'closed': 0, 'open': 1}, inplace=True)\n",
    "data['smoking'].replace({'nonsmoker': 0, 'occasional': 1, 'heavy': 2}, inplace=True)\n",
    "data.head(5)\n",
    "\n"
   ]
  },
  {
   "cell_type": "code",
   "execution_count": 5,
   "metadata": {},
   "outputs": [
    {
     "output_type": "execute_result",
     "data": {
      "text/plain": "   openness  conscientiousness  extraversion  agreeableness  neuroticism\n0  0.019272           0.753578      0.401110       0.778274     0.987281\n1  0.158774           0.873202      0.323967       0.981618     0.766964\n2  0.540267           0.338295      0.734013       0.230614     0.986058\n3  0.163366           0.659646      0.998051       0.572790     0.807712\n4  0.600429           0.769614      0.280889       0.614203     0.186072",
      "text/html": "<div>\n<style scoped>\n    .dataframe tbody tr th:only-of-type {\n        vertical-align: middle;\n    }\n\n    .dataframe tbody tr th {\n        vertical-align: top;\n    }\n\n    .dataframe thead th {\n        text-align: right;\n    }\n</style>\n<table border=\"1\" class=\"dataframe\">\n  <thead>\n    <tr style=\"text-align: right;\">\n      <th></th>\n      <th>openness</th>\n      <th>conscientiousness</th>\n      <th>extraversion</th>\n      <th>agreeableness</th>\n      <th>neuroticism</th>\n    </tr>\n  </thead>\n  <tbody>\n    <tr>\n      <th>0</th>\n      <td>0.019272</td>\n      <td>0.753578</td>\n      <td>0.401110</td>\n      <td>0.778274</td>\n      <td>0.987281</td>\n    </tr>\n    <tr>\n      <th>1</th>\n      <td>0.158774</td>\n      <td>0.873202</td>\n      <td>0.323967</td>\n      <td>0.981618</td>\n      <td>0.766964</td>\n    </tr>\n    <tr>\n      <th>2</th>\n      <td>0.540267</td>\n      <td>0.338295</td>\n      <td>0.734013</td>\n      <td>0.230614</td>\n      <td>0.986058</td>\n    </tr>\n    <tr>\n      <th>3</th>\n      <td>0.163366</td>\n      <td>0.659646</td>\n      <td>0.998051</td>\n      <td>0.572790</td>\n      <td>0.807712</td>\n    </tr>\n    <tr>\n      <th>4</th>\n      <td>0.600429</td>\n      <td>0.769614</td>\n      <td>0.280889</td>\n      <td>0.614203</td>\n      <td>0.186072</td>\n    </tr>\n  </tbody>\n</table>\n</div>"
     },
     "metadata": {},
     "execution_count": 5
    }
   ],
   "source": [
    "## Create some subsets of data ##\n",
    "\n",
    "# Create subset by specifying the exact\n",
    "# column names we want to include in the subset\n",
    "\n",
    "#personalitySubset = data[['openness', 'conscientiousness', 'extraversion', 'agreeableness', 'neuroticism']]\n",
    "#personalitySubset.head()\n",
    "\n",
    "# Create the subset by specifying which\n",
    "# column range we want to include in the subset\n",
    "\n",
    "otherSubset = data.iloc[:, 4:9]\n",
    "otherSubset.head()\n",
    "\n",
    "# Select subset of data based on\n",
    "# A given row (observation)\n",
    "#data.loc[0]"
   ]
  },
  {
   "cell_type": "code",
   "execution_count": null,
   "metadata": {},
   "outputs": [],
   "source": []
  }
 ],
 "metadata": {
  "language_info": {
   "name": "python",
   "codemirror_mode": {
    "name": "ipython",
    "version": 3
   },
   "version": "3.7.7-final"
  },
  "orig_nbformat": 2,
  "file_extension": ".py",
  "mimetype": "text/x-python",
  "name": "python",
  "npconvert_exporter": "python",
  "pygments_lexer": "ipython3",
  "version": 3,
  "kernelspec": {
   "name": "python3",
   "display_name": "Python 3"
  }
 },
 "nbformat": 4,
 "nbformat_minor": 2
}