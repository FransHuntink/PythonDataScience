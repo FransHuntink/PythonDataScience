{
 "cells": [
  {
   "cell_type": "code",
   "execution_count": 1,
   "metadata": {},
   "outputs": [],
   "source": [
    "## Generate data from our simulated users ##\n",
    "\n",
    "# Reference the required imports for analysis\n",
    "from generator import DataGenerator\n",
    "from csv import writer\n",
    "import pandas as pd\n",
    "\n",
    "# TODO Figure out why this doesn't work?\n",
    "#rom faker import Faker\n",
    "#fake = Faker()\n",
    "\n",
    "#fake.name()\n",
    "# 'Lucy Cechtelar'\n",
    "\n",
    "generator = DataGenerator()\n",
    "\n",
    "def append_list_as_row(file_name, list_of_elem):\n",
    "    # Open file in append mode\n",
    "    with open(file_name, 'a+', newline='') as write_obj:\n",
    "        # Create a writer object from csv module\n",
    "        csv_writer = writer(write_obj)\n",
    "        # Add contents of list as last row in the csv file\n",
    "        csv_writer.writerow(list_of_elem)\n",
    "\n",
    "rowNames = ['name', 'gender', 'age', 'sexuality', 'openness', 'conscientiousness', 'extraversion', 'agreeableness', 'neuroticism', 'pets', 'sports', \n",
    "'workout', 'travel', 'outdoors','smoking', 'relationshipType']\n",
    "\n",
    "#append_list_as_row('data.csv', rowNames)\n",
    "\n",
    "for x in range(0, 50):\n",
    "    append_list_as_row('data.csv', generator.GeneratePersonData())\n"
   ]
  },
  {
   "cell_type": "code",
   "execution_count": 2,
   "metadata": {},
   "outputs": [
    {
     "output_type": "execute_result",
     "data": {
      "text/plain": "            name  gender  age    sexuality  pets sports       workout  \\\n0  Steven Strong  female   24  hereosexual     1    yes          none   \n1   Michelle Lee    male   42  hereosexual     3     no  occasionally   \n2     Autumn Lee  female   37  hereosexual     1     no          none   \n3   Raymond Cook  female   44  hereosexual     1     no      frequent   \n4   James Bowman  female   21  hereosexual     2     no          none   \n\n         travel outdoors     smoking relationshipType  \n0  occasionally  outdoor       heavy           closed  \n1  occasionally   indoor       heavy           closed  \n2  occasionally  outdoor       heavy             open  \n3  occasionally  outdoor  occasional           closed  \n4  occasionally   indoor  occasional           closed  ",
      "text/html": "<div>\n<style scoped>\n    .dataframe tbody tr th:only-of-type {\n        vertical-align: middle;\n    }\n\n    .dataframe tbody tr th {\n        vertical-align: top;\n    }\n\n    .dataframe thead th {\n        text-align: right;\n    }\n</style>\n<table border=\"1\" class=\"dataframe\">\n  <thead>\n    <tr style=\"text-align: right;\">\n      <th></th>\n      <th>name</th>\n      <th>gender</th>\n      <th>age</th>\n      <th>sexuality</th>\n      <th>pets</th>\n      <th>sports</th>\n      <th>workout</th>\n      <th>travel</th>\n      <th>outdoors</th>\n      <th>smoking</th>\n      <th>relationshipType</th>\n    </tr>\n  </thead>\n  <tbody>\n    <tr>\n      <th>0</th>\n      <td>Steven Strong</td>\n      <td>female</td>\n      <td>24</td>\n      <td>hereosexual</td>\n      <td>1</td>\n      <td>yes</td>\n      <td>none</td>\n      <td>occasionally</td>\n      <td>outdoor</td>\n      <td>heavy</td>\n      <td>closed</td>\n    </tr>\n    <tr>\n      <th>1</th>\n      <td>Michelle Lee</td>\n      <td>male</td>\n      <td>42</td>\n      <td>hereosexual</td>\n      <td>3</td>\n      <td>no</td>\n      <td>occasionally</td>\n      <td>occasionally</td>\n      <td>indoor</td>\n      <td>heavy</td>\n      <td>closed</td>\n    </tr>\n    <tr>\n      <th>2</th>\n      <td>Autumn Lee</td>\n      <td>female</td>\n      <td>37</td>\n      <td>hereosexual</td>\n      <td>1</td>\n      <td>no</td>\n      <td>none</td>\n      <td>occasionally</td>\n      <td>outdoor</td>\n      <td>heavy</td>\n      <td>open</td>\n    </tr>\n    <tr>\n      <th>3</th>\n      <td>Raymond Cook</td>\n      <td>female</td>\n      <td>44</td>\n      <td>hereosexual</td>\n      <td>1</td>\n      <td>no</td>\n      <td>frequent</td>\n      <td>occasionally</td>\n      <td>outdoor</td>\n      <td>occasional</td>\n      <td>closed</td>\n    </tr>\n    <tr>\n      <th>4</th>\n      <td>James Bowman</td>\n      <td>female</td>\n      <td>21</td>\n      <td>hereosexual</td>\n      <td>2</td>\n      <td>no</td>\n      <td>none</td>\n      <td>occasionally</td>\n      <td>indoor</td>\n      <td>occasional</td>\n      <td>closed</td>\n    </tr>\n  </tbody>\n</table>\n</div>"
     },
     "metadata": {},
     "execution_count": 2
    }
   ],
   "source": [
    "## Explore generated data ## \n",
    "\n",
    "data = pd.read_csv(\"data.csv\") \n",
    "# Preview the first 5 lines of the loaded data \n",
    "data.head()"
   ]
  },
  {
   "cell_type": "code",
   "execution_count": 10,
   "metadata": {},
   "outputs": [
    {
     "output_type": "execute_result",
     "data": {
      "text/plain": "                 name  gender  age    sexuality  openness  conscientiousness  \\\n0        Cathy Garcia  female   24  hereosexual  0.242012           0.653560   \n1       Kathy Barrett    male   35        other  0.379076           0.478319   \n2    Michael Gonzalez  female   28          gay  0.401160           0.607623   \n3      Jeffery Fowler    male   32  hereosexual  0.598158           0.159527   \n4        Robert Klein    male   40  hereosexual  0.282812           0.952252   \n5          Lori Baker    male   39          gay  0.857459           0.697647   \n6        Scott Garcia    male   46  hereosexual  0.910137           0.444868   \n7    Keith Williamson    male   23  hereosexual  0.528675           0.507594   \n8    Margaret Johnson  female   42  hereosexual  0.339104           0.690615   \n9   Meredith Mcknight    male   23  hereosexual  0.167817           0.524558   \n10      William Jones    male   39  hereosexual  0.336902           0.399805   \n11         Julia Pugh  female   41  hereosexual  0.919000           0.567975   \n12       Lucas Morgan    male   36  hereosexual  0.798749           0.996325   \n13    Gregory Griffin  female   32  hereosexual  0.680991           0.592301   \n14     Joshua Simmons    male   27  hereosexual  0.065040           0.861983   \n\n    extraversion  agreeableness  neuroticism  pets sports  workout  \\\n0       0.615776       0.836161     0.245541     1    yes        1   \n1       0.268330       0.333771     0.764476     1     no        1   \n2       0.516510       0.038909     0.014487     3    yes        0   \n3       0.447246       0.433064     0.218692     1     no        2   \n4       0.637993       0.329859     0.428183     0     no        4   \n5       0.785733       0.149742     0.296463     1     no        1   \n6       0.319549       0.833203     0.153546     0     no        1   \n7       0.045851       0.927314     0.242461     1     no        0   \n8       0.587330       0.509852     0.085207     1    yes        1   \n9       0.747998       0.928458     0.233833     4    yes        1   \n10      0.386857       0.486265     0.256854     3     no        4   \n11      0.302641       0.549235     0.957878     1     no        4   \n12      0.319564       0.357720     0.126042     3     no        4   \n13      0.761077       0.883657     0.638903     4     no        1   \n14      0.219718       0.021254     0.013261     2     no        2   \n\n          travel outdoors  smoking  relationshipType  \n0   occasionally  outdoor        0                 0  \n1           none  outdoor        0                 0  \n2           none   indoor        1                 0  \n3           none   indoor        0                 0  \n4       frequent  outdoor        1                 0  \n5   occasionally  outdoor        0                 0  \n6   occasionally  outdoor        1                 0  \n7       frequent   indoor        2                 1  \n8   occasionally   indoor        0                 0  \n9       frequent   indoor        0                 0  \n10  occasionally  outdoor        1                 0  \n11  occasionally   indoor        2                 0  \n12          none   indoor        0                 0  \n13  occasionally  outdoor        0                 0  \n14          none   indoor        2                 0  ",
      "text/html": "<div>\n<style scoped>\n    .dataframe tbody tr th:only-of-type {\n        vertical-align: middle;\n    }\n\n    .dataframe tbody tr th {\n        vertical-align: top;\n    }\n\n    .dataframe thead th {\n        text-align: right;\n    }\n</style>\n<table border=\"1\" class=\"dataframe\">\n  <thead>\n    <tr style=\"text-align: right;\">\n      <th></th>\n      <th>name</th>\n      <th>gender</th>\n      <th>age</th>\n      <th>sexuality</th>\n      <th>openness</th>\n      <th>conscientiousness</th>\n      <th>extraversion</th>\n      <th>agreeableness</th>\n      <th>neuroticism</th>\n      <th>pets</th>\n      <th>sports</th>\n      <th>workout</th>\n      <th>travel</th>\n      <th>outdoors</th>\n      <th>smoking</th>\n      <th>relationshipType</th>\n    </tr>\n  </thead>\n  <tbody>\n    <tr>\n      <th>0</th>\n      <td>Cathy Garcia</td>\n      <td>female</td>\n      <td>24</td>\n      <td>hereosexual</td>\n      <td>0.242012</td>\n      <td>0.653560</td>\n      <td>0.615776</td>\n      <td>0.836161</td>\n      <td>0.245541</td>\n      <td>1</td>\n      <td>yes</td>\n      <td>1</td>\n      <td>occasionally</td>\n      <td>outdoor</td>\n      <td>0</td>\n      <td>0</td>\n    </tr>\n    <tr>\n      <th>1</th>\n      <td>Kathy Barrett</td>\n      <td>male</td>\n      <td>35</td>\n      <td>other</td>\n      <td>0.379076</td>\n      <td>0.478319</td>\n      <td>0.268330</td>\n      <td>0.333771</td>\n      <td>0.764476</td>\n      <td>1</td>\n      <td>no</td>\n      <td>1</td>\n      <td>none</td>\n      <td>outdoor</td>\n      <td>0</td>\n      <td>0</td>\n    </tr>\n    <tr>\n      <th>2</th>\n      <td>Michael Gonzalez</td>\n      <td>female</td>\n      <td>28</td>\n      <td>gay</td>\n      <td>0.401160</td>\n      <td>0.607623</td>\n      <td>0.516510</td>\n      <td>0.038909</td>\n      <td>0.014487</td>\n      <td>3</td>\n      <td>yes</td>\n      <td>0</td>\n      <td>none</td>\n      <td>indoor</td>\n      <td>1</td>\n      <td>0</td>\n    </tr>\n    <tr>\n      <th>3</th>\n      <td>Jeffery Fowler</td>\n      <td>male</td>\n      <td>32</td>\n      <td>hereosexual</td>\n      <td>0.598158</td>\n      <td>0.159527</td>\n      <td>0.447246</td>\n      <td>0.433064</td>\n      <td>0.218692</td>\n      <td>1</td>\n      <td>no</td>\n      <td>2</td>\n      <td>none</td>\n      <td>indoor</td>\n      <td>0</td>\n      <td>0</td>\n    </tr>\n    <tr>\n      <th>4</th>\n      <td>Robert Klein</td>\n      <td>male</td>\n      <td>40</td>\n      <td>hereosexual</td>\n      <td>0.282812</td>\n      <td>0.952252</td>\n      <td>0.637993</td>\n      <td>0.329859</td>\n      <td>0.428183</td>\n      <td>0</td>\n      <td>no</td>\n      <td>4</td>\n      <td>frequent</td>\n      <td>outdoor</td>\n      <td>1</td>\n      <td>0</td>\n    </tr>\n    <tr>\n      <th>5</th>\n      <td>Lori Baker</td>\n      <td>male</td>\n      <td>39</td>\n      <td>gay</td>\n      <td>0.857459</td>\n      <td>0.697647</td>\n      <td>0.785733</td>\n      <td>0.149742</td>\n      <td>0.296463</td>\n      <td>1</td>\n      <td>no</td>\n      <td>1</td>\n      <td>occasionally</td>\n      <td>outdoor</td>\n      <td>0</td>\n      <td>0</td>\n    </tr>\n    <tr>\n      <th>6</th>\n      <td>Scott Garcia</td>\n      <td>male</td>\n      <td>46</td>\n      <td>hereosexual</td>\n      <td>0.910137</td>\n      <td>0.444868</td>\n      <td>0.319549</td>\n      <td>0.833203</td>\n      <td>0.153546</td>\n      <td>0</td>\n      <td>no</td>\n      <td>1</td>\n      <td>occasionally</td>\n      <td>outdoor</td>\n      <td>1</td>\n      <td>0</td>\n    </tr>\n    <tr>\n      <th>7</th>\n      <td>Keith Williamson</td>\n      <td>male</td>\n      <td>23</td>\n      <td>hereosexual</td>\n      <td>0.528675</td>\n      <td>0.507594</td>\n      <td>0.045851</td>\n      <td>0.927314</td>\n      <td>0.242461</td>\n      <td>1</td>\n      <td>no</td>\n      <td>0</td>\n      <td>frequent</td>\n      <td>indoor</td>\n      <td>2</td>\n      <td>1</td>\n    </tr>\n    <tr>\n      <th>8</th>\n      <td>Margaret Johnson</td>\n      <td>female</td>\n      <td>42</td>\n      <td>hereosexual</td>\n      <td>0.339104</td>\n      <td>0.690615</td>\n      <td>0.587330</td>\n      <td>0.509852</td>\n      <td>0.085207</td>\n      <td>1</td>\n      <td>yes</td>\n      <td>1</td>\n      <td>occasionally</td>\n      <td>indoor</td>\n      <td>0</td>\n      <td>0</td>\n    </tr>\n    <tr>\n      <th>9</th>\n      <td>Meredith Mcknight</td>\n      <td>male</td>\n      <td>23</td>\n      <td>hereosexual</td>\n      <td>0.167817</td>\n      <td>0.524558</td>\n      <td>0.747998</td>\n      <td>0.928458</td>\n      <td>0.233833</td>\n      <td>4</td>\n      <td>yes</td>\n      <td>1</td>\n      <td>frequent</td>\n      <td>indoor</td>\n      <td>0</td>\n      <td>0</td>\n    </tr>\n    <tr>\n      <th>10</th>\n      <td>William Jones</td>\n      <td>male</td>\n      <td>39</td>\n      <td>hereosexual</td>\n      <td>0.336902</td>\n      <td>0.399805</td>\n      <td>0.386857</td>\n      <td>0.486265</td>\n      <td>0.256854</td>\n      <td>3</td>\n      <td>no</td>\n      <td>4</td>\n      <td>occasionally</td>\n      <td>outdoor</td>\n      <td>1</td>\n      <td>0</td>\n    </tr>\n    <tr>\n      <th>11</th>\n      <td>Julia Pugh</td>\n      <td>female</td>\n      <td>41</td>\n      <td>hereosexual</td>\n      <td>0.919000</td>\n      <td>0.567975</td>\n      <td>0.302641</td>\n      <td>0.549235</td>\n      <td>0.957878</td>\n      <td>1</td>\n      <td>no</td>\n      <td>4</td>\n      <td>occasionally</td>\n      <td>indoor</td>\n      <td>2</td>\n      <td>0</td>\n    </tr>\n    <tr>\n      <th>12</th>\n      <td>Lucas Morgan</td>\n      <td>male</td>\n      <td>36</td>\n      <td>hereosexual</td>\n      <td>0.798749</td>\n      <td>0.996325</td>\n      <td>0.319564</td>\n      <td>0.357720</td>\n      <td>0.126042</td>\n      <td>3</td>\n      <td>no</td>\n      <td>4</td>\n      <td>none</td>\n      <td>indoor</td>\n      <td>0</td>\n      <td>0</td>\n    </tr>\n    <tr>\n      <th>13</th>\n      <td>Gregory Griffin</td>\n      <td>female</td>\n      <td>32</td>\n      <td>hereosexual</td>\n      <td>0.680991</td>\n      <td>0.592301</td>\n      <td>0.761077</td>\n      <td>0.883657</td>\n      <td>0.638903</td>\n      <td>4</td>\n      <td>no</td>\n      <td>1</td>\n      <td>occasionally</td>\n      <td>outdoor</td>\n      <td>0</td>\n      <td>0</td>\n    </tr>\n    <tr>\n      <th>14</th>\n      <td>Joshua Simmons</td>\n      <td>male</td>\n      <td>27</td>\n      <td>hereosexual</td>\n      <td>0.065040</td>\n      <td>0.861983</td>\n      <td>0.219718</td>\n      <td>0.021254</td>\n      <td>0.013261</td>\n      <td>2</td>\n      <td>no</td>\n      <td>2</td>\n      <td>none</td>\n      <td>indoor</td>\n      <td>2</td>\n      <td>0</td>\n    </tr>\n  </tbody>\n</table>\n</div>"
     },
     "metadata": {},
     "execution_count": 10
    }
   ],
   "source": [
    "## Apply data validation in order to make\n",
    "## it possible to work with the data ##\n",
    "\n",
    "\n",
    "# Codify the string values to numerical\n",
    "# Values for the model to make sense of\n",
    "data['relationshipType'].replace({'closed': 0, 'open': 1}, inplace=True)\n",
    "data['smoking'].replace({'nonsmoker': 0, 'occasional': 1, 'heavy': 2}, inplace=True)\n",
    "data.head(15)\n"
   ]
  },
  {
   "cell_type": "code",
   "execution_count": null,
   "metadata": {},
   "outputs": [],
   "source": []
  }
 ],
 "metadata": {
  "language_info": {
   "codemirror_mode": {
    "name": "ipython",
    "version": 3
   },
   "file_extension": ".py",
   "mimetype": "text/x-python",
   "name": "python",
   "nbconvert_exporter": "python",
   "pygments_lexer": "ipython3",
   "version": "3.7.7-final"
  },
  "orig_nbformat": 2,
  "kernelspec": {
   "name": "python3",
   "display_name": "Python 3"
  }
 },
 "nbformat": 4,
 "nbformat_minor": 2
}