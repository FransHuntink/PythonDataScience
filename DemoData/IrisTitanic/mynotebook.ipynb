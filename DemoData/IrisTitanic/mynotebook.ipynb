{
 "cells": [
  {
   "cell_type": "code",
   "execution_count": 1,
   "metadata": {},
   "outputs": [
    {
     "output_type": "stream",
     "name": "stdout",
     "text": "<class 'pandas.core.frame.DataFrame'>\nRangeIndex: 1309 entries, 0 to 1308\nData columns (total 14 columns):\n #   Column     Non-Null Count  Dtype \n---  ------     --------------  ----- \n 0   pclass     1309 non-null   int64 \n 1   survived   1309 non-null   int64 \n 2   name       1309 non-null   object\n 3   sex        1309 non-null   object\n 4   age        1309 non-null   object\n 5   sibsp      1309 non-null   int64 \n 6   parch      1309 non-null   int64 \n 7   ticket     1309 non-null   object\n 8   fare       1309 non-null   object\n 9   cabin      1309 non-null   object\n 10  embarked   1309 non-null   object\n 11  boat       1309 non-null   object\n 12  body       1309 non-null   object\n 13  home.dest  1309 non-null   object\ndtypes: int64(4), object(10)\nmemory usage: 143.3+ KB\n"
    }
   ],
   "source": [
    "import pandas as pandas\n",
    "import numpy as numpy\n",
    "\n",
    "data = pandas.read_csv(\"data/data.csv\")\n",
    "data.info()\n",
    "\n"
   ]
  },
  {
   "cell_type": "markdown",
   "metadata": {},
   "source": [
    "A good starting point for any analysis is to become familiar with the information your dataset contains. If you haven't done so, please read the data point definitions in my paper to better understand what  In this case, we've got a number of 'object'-type attributes like ticket, fare, cabin, etc. The object datatype essentially means that it can be one of many datatypes (numerical, categorical, string of text), so it doesn't tell us too much. The other datatype is int64, which is a whole number (e.g. 1, 2, 3, 500). "
   ]
  },
  {
   "cell_type": "code",
   "execution_count": 2,
   "metadata": {},
   "outputs": [
    {
     "output_type": "execute_result",
     "data": {
      "text/plain": "   pclass  survived                                             name     sex  \\\n0       1         1                    Allen, Miss. Elisabeth Walton  female   \n1       1         1                   Allison, Master. Hudson Trevor    male   \n2       1         0                     Allison, Miss. Helen Loraine  female   \n3       1         0             Allison, Mr. Hudson Joshua Creighton    male   \n4       1         0  Allison, Mrs. Hudson J C (Bessie Waldo Daniels)  female   \n\n      age  sibsp  parch  ticket      fare    cabin embarked boat body  \\\n0      29      0      0   24160  211.3375       B5        S    2    ?   \n1  0.9167      1      2  113781    151.55  C22 C26        S   11    ?   \n2       2      1      2  113781    151.55  C22 C26        S    ?    ?   \n3      30      1      2  113781    151.55  C22 C26        S    ?  135   \n4      25      1      2  113781    151.55  C22 C26        S    ?    ?   \n\n                         home.dest  \n0                     St Louis, MO  \n1  Montreal, PQ / Chesterville, ON  \n2  Montreal, PQ / Chesterville, ON  \n3  Montreal, PQ / Chesterville, ON  \n4  Montreal, PQ / Chesterville, ON  ",
      "text/html": "<div>\n<style scoped>\n    .dataframe tbody tr th:only-of-type {\n        vertical-align: middle;\n    }\n\n    .dataframe tbody tr th {\n        vertical-align: top;\n    }\n\n    .dataframe thead th {\n        text-align: right;\n    }\n</style>\n<table border=\"1\" class=\"dataframe\">\n  <thead>\n    <tr style=\"text-align: right;\">\n      <th></th>\n      <th>pclass</th>\n      <th>survived</th>\n      <th>name</th>\n      <th>sex</th>\n      <th>age</th>\n      <th>sibsp</th>\n      <th>parch</th>\n      <th>ticket</th>\n      <th>fare</th>\n      <th>cabin</th>\n      <th>embarked</th>\n      <th>boat</th>\n      <th>body</th>\n      <th>home.dest</th>\n    </tr>\n  </thead>\n  <tbody>\n    <tr>\n      <th>0</th>\n      <td>1</td>\n      <td>1</td>\n      <td>Allen, Miss. Elisabeth Walton</td>\n      <td>female</td>\n      <td>29</td>\n      <td>0</td>\n      <td>0</td>\n      <td>24160</td>\n      <td>211.3375</td>\n      <td>B5</td>\n      <td>S</td>\n      <td>2</td>\n      <td>?</td>\n      <td>St Louis, MO</td>\n    </tr>\n    <tr>\n      <th>1</th>\n      <td>1</td>\n      <td>1</td>\n      <td>Allison, Master. Hudson Trevor</td>\n      <td>male</td>\n      <td>0.9167</td>\n      <td>1</td>\n      <td>2</td>\n      <td>113781</td>\n      <td>151.55</td>\n      <td>C22 C26</td>\n      <td>S</td>\n      <td>11</td>\n      <td>?</td>\n      <td>Montreal, PQ / Chesterville, ON</td>\n    </tr>\n    <tr>\n      <th>2</th>\n      <td>1</td>\n      <td>0</td>\n      <td>Allison, Miss. Helen Loraine</td>\n      <td>female</td>\n      <td>2</td>\n      <td>1</td>\n      <td>2</td>\n      <td>113781</td>\n      <td>151.55</td>\n      <td>C22 C26</td>\n      <td>S</td>\n      <td>?</td>\n      <td>?</td>\n      <td>Montreal, PQ / Chesterville, ON</td>\n    </tr>\n    <tr>\n      <th>3</th>\n      <td>1</td>\n      <td>0</td>\n      <td>Allison, Mr. Hudson Joshua Creighton</td>\n      <td>male</td>\n      <td>30</td>\n      <td>1</td>\n      <td>2</td>\n      <td>113781</td>\n      <td>151.55</td>\n      <td>C22 C26</td>\n      <td>S</td>\n      <td>?</td>\n      <td>135</td>\n      <td>Montreal, PQ / Chesterville, ON</td>\n    </tr>\n    <tr>\n      <th>4</th>\n      <td>1</td>\n      <td>0</td>\n      <td>Allison, Mrs. Hudson J C (Bessie Waldo Daniels)</td>\n      <td>female</td>\n      <td>25</td>\n      <td>1</td>\n      <td>2</td>\n      <td>113781</td>\n      <td>151.55</td>\n      <td>C22 C26</td>\n      <td>S</td>\n      <td>?</td>\n      <td>?</td>\n      <td>Montreal, PQ / Chesterville, ON</td>\n    </tr>\n  </tbody>\n</table>\n</div>"
     },
     "metadata": {},
     "execution_count": 2
    }
   ],
   "source": [
    "data.head()"
   ]
  },
  {
   "cell_type": "markdown",
   "metadata": {},
   "source": [
    "By looking at the first few observations of our dataset, we can start assessing what needs to be done in order to train our binary classification model. A few issues that can be seen in these first few observation: Missing data is indicated with a '?' character that wouldn't make sense to most algorithms and the body property seems to be missing a lot of values (although this is an assumption).\n",
    "\n",
    "Let's test this assumption by returning a list of objects that are empty. To do so, we will first have to replace the '?' character (that indicates a missing value in this dataset for some reason) to type NaN, the type that most algorithms associate with a missing value (quite similar to null). We can then use a built-in pandas method that returns a list of all properties and how many null values they have. \n"
   ]
  },
  {
   "cell_type": "code",
   "execution_count": 3,
   "metadata": {},
   "outputs": [
    {
     "output_type": "stream",
     "name": "stdout",
     "text": "pclass          0\nsurvived        0\nname            0\nsex             0\nage           263\nsibsp           0\nparch           0\nticket          0\nfare            1\ncabin        1014\nembarked        2\nboat          823\nbody         1188\nhome.dest     564\ndtype: int64\n"
    }
   ],
   "source": [
    "# Replace the '?' character with a numpy\n",
    "# nan value in order to determine how many\n",
    "# values are left empty\n",
    "data.replace('?', numpy.nan, inplace= True)\n",
    "\n",
    "# Return the amount of null (empty)\n",
    "# values per column \n",
    "print(data.isnull().sum())"
   ]
  },
  {
   "cell_type": "markdown",
   "metadata": {},
   "source": [
    "As we can see, there's a few values that are missing from this dataset: Some age values, and a massive part of the cabin, boat, body and home.dest values. As a rule of thumb, if more than 60% of a property's data is missing, we drop it. If it is less than that, we can attempt to predict or correct them. \n",
    "\n",
    "In this step, we transform categorical data (gender: male, female) to a numerical representation (male = 0, female = 1). We call this codification, and it necessary because our binary classifier doesn't deal with textual data, but rather with numbers. We then predict some missing values for age, embarked and fare. We will not yet drop any columns. "
   ]
  },
  {
   "cell_type": "code",
   "execution_count": 4,
   "metadata": {},
   "outputs": [
    {
     "output_type": "execute_result",
     "data": {
      "text/plain": "   pclass  survived                                             name  sex  \\\n0       1         1                    Allen, Miss. Elisabeth Walton    0   \n1       1         1                   Allison, Master. Hudson Trevor    1   \n2       1         0                     Allison, Miss. Helen Loraine    0   \n3       1         0             Allison, Mr. Hudson Joshua Creighton    1   \n4       1         0  Allison, Mrs. Hudson J C (Bessie Waldo Daniels)    0   \n\n       age  sibsp  parch  ticket      fare    cabin embarked boat body  \\\n0  29.0000      0      0   24160  211.3375       B5        S    2  NaN   \n1   0.9167      1      2  113781  151.5500  C22 C26        S   11  NaN   \n2   2.0000      1      2  113781  151.5500  C22 C26        S  NaN  NaN   \n3  30.0000      1      2  113781  151.5500  C22 C26        S  NaN  135   \n4  25.0000      1      2  113781  151.5500  C22 C26        S  NaN  NaN   \n\n                         home.dest  \n0                     St Louis, MO  \n1  Montreal, PQ / Chesterville, ON  \n2  Montreal, PQ / Chesterville, ON  \n3  Montreal, PQ / Chesterville, ON  \n4  Montreal, PQ / Chesterville, ON  ",
      "text/html": "<div>\n<style scoped>\n    .dataframe tbody tr th:only-of-type {\n        vertical-align: middle;\n    }\n\n    .dataframe tbody tr th {\n        vertical-align: top;\n    }\n\n    .dataframe thead th {\n        text-align: right;\n    }\n</style>\n<table border=\"1\" class=\"dataframe\">\n  <thead>\n    <tr style=\"text-align: right;\">\n      <th></th>\n      <th>pclass</th>\n      <th>survived</th>\n      <th>name</th>\n      <th>sex</th>\n      <th>age</th>\n      <th>sibsp</th>\n      <th>parch</th>\n      <th>ticket</th>\n      <th>fare</th>\n      <th>cabin</th>\n      <th>embarked</th>\n      <th>boat</th>\n      <th>body</th>\n      <th>home.dest</th>\n    </tr>\n  </thead>\n  <tbody>\n    <tr>\n      <th>0</th>\n      <td>1</td>\n      <td>1</td>\n      <td>Allen, Miss. Elisabeth Walton</td>\n      <td>0</td>\n      <td>29.0000</td>\n      <td>0</td>\n      <td>0</td>\n      <td>24160</td>\n      <td>211.3375</td>\n      <td>B5</td>\n      <td>S</td>\n      <td>2</td>\n      <td>NaN</td>\n      <td>St Louis, MO</td>\n    </tr>\n    <tr>\n      <th>1</th>\n      <td>1</td>\n      <td>1</td>\n      <td>Allison, Master. Hudson Trevor</td>\n      <td>1</td>\n      <td>0.9167</td>\n      <td>1</td>\n      <td>2</td>\n      <td>113781</td>\n      <td>151.5500</td>\n      <td>C22 C26</td>\n      <td>S</td>\n      <td>11</td>\n      <td>NaN</td>\n      <td>Montreal, PQ / Chesterville, ON</td>\n    </tr>\n    <tr>\n      <th>2</th>\n      <td>1</td>\n      <td>0</td>\n      <td>Allison, Miss. Helen Loraine</td>\n      <td>0</td>\n      <td>2.0000</td>\n      <td>1</td>\n      <td>2</td>\n      <td>113781</td>\n      <td>151.5500</td>\n      <td>C22 C26</td>\n      <td>S</td>\n      <td>NaN</td>\n      <td>NaN</td>\n      <td>Montreal, PQ / Chesterville, ON</td>\n    </tr>\n    <tr>\n      <th>3</th>\n      <td>1</td>\n      <td>0</td>\n      <td>Allison, Mr. Hudson Joshua Creighton</td>\n      <td>1</td>\n      <td>30.0000</td>\n      <td>1</td>\n      <td>2</td>\n      <td>113781</td>\n      <td>151.5500</td>\n      <td>C22 C26</td>\n      <td>S</td>\n      <td>NaN</td>\n      <td>135</td>\n      <td>Montreal, PQ / Chesterville, ON</td>\n    </tr>\n    <tr>\n      <th>4</th>\n      <td>1</td>\n      <td>0</td>\n      <td>Allison, Mrs. Hudson J C (Bessie Waldo Daniels)</td>\n      <td>0</td>\n      <td>25.0000</td>\n      <td>1</td>\n      <td>2</td>\n      <td>113781</td>\n      <td>151.5500</td>\n      <td>C22 C26</td>\n      <td>S</td>\n      <td>NaN</td>\n      <td>NaN</td>\n      <td>Montreal, PQ / Chesterville, ON</td>\n    </tr>\n  </tbody>\n</table>\n</div>"
     },
     "metadata": {},
     "execution_count": 4
    }
   ],
   "source": [
    "\n",
    "# We update the age and fare attributes of the dataset from type \n",
    "# 'object' to type 'float64', which indicates it is (possibly) a \n",
    "# fractional number (e.g. 1.2, 3.45, but also 5 or 20). This step makes\n",
    "# calculations further along the way easier. \n",
    "data = data.astype({\"age\": numpy.float64, \"fare\": numpy.float64})\n",
    "\n",
    "# We fill in missing data points from the properties age, embarked\n",
    "# and fare. We use a the median of age and fare because they are numerical,\n",
    "# and use the mode (most common category) for the embarked property. \n",
    "data['age'].fillna(data['age'].median(), inplace = True)\n",
    "data['embarked'].fillna(data['embarked'].mode()[0], inplace = True)\n",
    "data['fare'].fillna(data['fare'].median(), inplace = True)\n",
    "\n",
    "\n",
    "# Because gender only consists of either 'male' or 'female', it makes sense\n",
    "# to replace it with a binary value that makes classification easier. \n",
    "data.replace({'male': 1, 'female': 0}, inplace=True)\n",
    "data.head()\n"
   ]
  },
  {
   "cell_type": "markdown",
   "metadata": {},
   "source": [
    "As becomes clear from the samples above, we have successfully transformed our data to a numerical representation (save for tables that we will likely drop later on). \n",
    "\n",
    "It is now time to determine which of our properties hold a correlation to our classification goal: determine whether someone survived.  "
   ]
  },
  {
   "cell_type": "code",
   "execution_count": 5,
   "metadata": {},
   "outputs": [
    {
     "output_type": "execute_result",
     "data": {
      "text/plain": "          survived\npclass    0.312469\nsurvived  1.000000\nsex       0.528693\nage       0.043818\nsibsp     0.027825\nparch     0.082660\nfare      0.244414",
      "text/html": "<div>\n<style scoped>\n    .dataframe tbody tr th:only-of-type {\n        vertical-align: middle;\n    }\n\n    .dataframe tbody tr th {\n        vertical-align: top;\n    }\n\n    .dataframe thead th {\n        text-align: right;\n    }\n</style>\n<table border=\"1\" class=\"dataframe\">\n  <thead>\n    <tr style=\"text-align: right;\">\n      <th></th>\n      <th>survived</th>\n    </tr>\n  </thead>\n  <tbody>\n    <tr>\n      <th>pclass</th>\n      <td>0.312469</td>\n    </tr>\n    <tr>\n      <th>survived</th>\n      <td>1.000000</td>\n    </tr>\n    <tr>\n      <th>sex</th>\n      <td>0.528693</td>\n    </tr>\n    <tr>\n      <th>age</th>\n      <td>0.043818</td>\n    </tr>\n    <tr>\n      <th>sibsp</th>\n      <td>0.027825</td>\n    </tr>\n    <tr>\n      <th>parch</th>\n      <td>0.082660</td>\n    </tr>\n    <tr>\n      <th>fare</th>\n      <td>0.244414</td>\n    </tr>\n  </tbody>\n</table>\n</div>"
     },
     "metadata": {},
     "execution_count": 5
    }
   ],
   "source": [
    "# Return a list of dataset properties and their correlation with the\n",
    "# property passed into the method (in this case the 'survived' property)\n",
    "data.corr().abs()[[\"survived\"]]"
   ]
  },
  {
   "cell_type": "markdown",
   "metadata": {},
   "source": [
    "What each value tells us is the degree of correlation. In this case, the sex of a passenger has a significant correlation towards the 'survived' property. Another important factor is the class in which the passenger was traveling (1st, 2nd, 3d class), and how much they paid for their trip (the fare).\n",
    "\n",
    "This is extremely valuable information, because it gives us an idea which parts of our dataset will matter for solving our specific problem (survivability). It will also help with the next step of training our classification model: feature engineering. In feature engineering, we use domain knowledge to create new dataset features (a.k.a. properties) in order to boost our model results. \n",
    "\n",
    "A good example comes from combining the sibling/spouses feature with the parch property. We create a new feature called 'relatives', that contains the absolute amount of relatives a person has on board.\n"
   ]
  },
  {
   "cell_type": "code",
   "execution_count": 6,
   "metadata": {},
   "outputs": [
    {
     "output_type": "execute_result",
     "data": {
      "text/plain": "           survived\npclass     0.312469\nsurvived   1.000000\nsex        0.528693\nage        0.043818\nsibsp      0.027825\nparch      0.082660\nfare       0.244414\nrelatives  0.201719",
      "text/html": "<div>\n<style scoped>\n    .dataframe tbody tr th:only-of-type {\n        vertical-align: middle;\n    }\n\n    .dataframe tbody tr th {\n        vertical-align: top;\n    }\n\n    .dataframe thead th {\n        text-align: right;\n    }\n</style>\n<table border=\"1\" class=\"dataframe\">\n  <thead>\n    <tr style=\"text-align: right;\">\n      <th></th>\n      <th>survived</th>\n    </tr>\n  </thead>\n  <tbody>\n    <tr>\n      <th>pclass</th>\n      <td>0.312469</td>\n    </tr>\n    <tr>\n      <th>survived</th>\n      <td>1.000000</td>\n    </tr>\n    <tr>\n      <th>sex</th>\n      <td>0.528693</td>\n    </tr>\n    <tr>\n      <th>age</th>\n      <td>0.043818</td>\n    </tr>\n    <tr>\n      <th>sibsp</th>\n      <td>0.027825</td>\n    </tr>\n    <tr>\n      <th>parch</th>\n      <td>0.082660</td>\n    </tr>\n    <tr>\n      <th>fare</th>\n      <td>0.244414</td>\n    </tr>\n    <tr>\n      <th>relatives</th>\n      <td>0.201719</td>\n    </tr>\n  </tbody>\n</table>\n</div>"
     },
     "metadata": {},
     "execution_count": 6
    }
   ],
   "source": [
    "\n",
    "# Combine the\n",
    "data['relatives'] = data.apply (lambda row: int((row['sibsp'] + row['parch']) > 0), axis=1)\n",
    "data.corr().abs()[[\"survived\"]]\n"
   ]
  },
  {
   "cell_type": "markdown",
   "metadata": {},
   "source": [
    "After creating our new feature (named 'relatives'), the next step is to assess how useful it is in classifying survivability. In the correlation index above, we can see that our new 'relatives' feature correlates much more strongly with the 'survived' property than the 'sibsp' and 'parch' combined. "
   ]
  },
  {
   "cell_type": "code",
   "execution_count": null,
   "metadata": {},
   "outputs": [],
   "source": []
  },
  {
   "cell_type": "code",
   "execution_count": 7,
   "metadata": {},
   "outputs": [
    {
     "output_type": "execute_result",
     "data": {
      "text/plain": "           survived\nsex        0.528693\npclass     0.312469\nage        0.043818\nrelatives  0.201719\nfare       0.244414\nsurvived   1.000000",
      "text/html": "<div>\n<style scoped>\n    .dataframe tbody tr th:only-of-type {\n        vertical-align: middle;\n    }\n\n    .dataframe tbody tr th {\n        vertical-align: top;\n    }\n\n    .dataframe thead th {\n        text-align: right;\n    }\n</style>\n<table border=\"1\" class=\"dataframe\">\n  <thead>\n    <tr style=\"text-align: right;\">\n      <th></th>\n      <th>survived</th>\n    </tr>\n  </thead>\n  <tbody>\n    <tr>\n      <th>sex</th>\n      <td>0.528693</td>\n    </tr>\n    <tr>\n      <th>pclass</th>\n      <td>0.312469</td>\n    </tr>\n    <tr>\n      <th>age</th>\n      <td>0.043818</td>\n    </tr>\n    <tr>\n      <th>relatives</th>\n      <td>0.201719</td>\n    </tr>\n    <tr>\n      <th>fare</th>\n      <td>0.244414</td>\n    </tr>\n    <tr>\n      <th>survived</th>\n      <td>1.000000</td>\n    </tr>\n  </tbody>\n</table>\n</div>"
     },
     "metadata": {},
     "execution_count": 7
    }
   ],
   "source": [
    "\n",
    "# Assign a sub-set of our data as main data (we remove 'sibsp' and 'parch' ) and drop all\n",
    "# numpy NaN values so that we are left with a clean dataset\n",
    "data = data[['sex', 'pclass','age','relatives','fare','survived']].dropna()\n",
    "data.corr().abs()[[\"survived\"]]"
   ]
  },
  {
   "cell_type": "code",
   "execution_count": 8,
   "metadata": {},
   "outputs": [],
   "source": [
    "# Dataset is now ready for machine learning, import\n",
    "# required libraries\n",
    "from sklearn.model_selection import train_test_split\n",
    "\n",
    "# Create four variables and assign all data equally\n",
    "# Two are of training, two are for testing (to validate accuracy)\n",
    "x_train, x_test, y_train, y_test = train_test_split(data[['sex','pclass','age','relatives','fare']], data.survived, test_size=0.2, random_state=0)\n",
    "\n",
    "\n",
    ""
   ]
  },
  {
   "cell_type": "code",
   "execution_count": 9,
   "metadata": {},
   "outputs": [],
   "source": [
    "# Normalize all inputs so that all data\n",
    "# is scaled equally\n",
    "from sklearn.preprocessing import StandardScaler\n",
    "\n",
    "sc = StandardScaler()\n",
    "\n",
    "# Create the two variables with normalised data\n",
    "X_train = sc.fit_transform(x_train)\n",
    "X_test = sc.transform(x_test)\n",
    "\n",
    ""
   ]
  },
  {
   "cell_type": "code",
   "execution_count": 9,
   "metadata": {},
   "outputs": [],
   "source": [
    "\n",
    "\n"
   ]
  },
  {
   "cell_type": "code",
   "execution_count": 10,
   "metadata": {},
   "outputs": [],
   "source": [
    "# Could use a neural net:  https://code.visualstudio.com/docs/python/data-science-tutorial\n",
    "# There's various ML algorithms to apply, in order to help\n",
    "# you choose there's a chart to help you choose here: https://scikit-learn.org/stable/tutorial/machine_learning_map/index.html\n",
    "\n",
    "from sklearn.model_selection import train_test_split\n",
    "from sklearn import svm, tree\n",
    "from sklearn.naive_bayes import GaussianNB\n",
    "from sklearn.metrics import accuracy_score, confusion_matrix\n",
    "from sklearn.ensemble import RandomForestClassifier\n",
    "from sklearn import preprocessing\n",
    "\n",
    "classifiers = []\n",
    "model = GaussianNB()\n",
    "classifiers.append(model)\n",
    "\n",
    "model2 = svm.SVC()\n",
    "classifiers.append(model2)\n",
    "\n",
    "model3 = tree.DecisionTreeClassifier()\n",
    "classifiers.append(model3)\n",
    "\n",
    "model4 = RandomForestClassifier()\n",
    "classifiers.append(model4)\n",
    "\n"
   ]
  },
  {
   "cell_type": "code",
   "execution_count": 11,
   "metadata": {},
   "outputs": [
    {
     "output_type": "stream",
     "name": "stdout",
     "text": "Accuracy of GaussianNB(priors=None, var_smoothing=1e-09) is 0.7748091603053435\nAccuracy of SVC(C=1.0, break_ties=False, cache_size=200, class_weight=None, coef0=0.0,\n    decision_function_shape='ovr', degree=3, gamma='scale', kernel='rbf',\n    max_iter=-1, probability=False, random_state=None, shrinking=True,\n    tol=0.001, verbose=False) is 0.7824427480916031\nAccuracy of DecisionTreeClassifier(ccp_alpha=0.0, class_weight=None, criterion='gini',\n                       max_depth=None, max_features=None, max_leaf_nodes=None,\n                       min_impurity_decrease=0.0, min_impurity_split=None,\n                       min_samples_leaf=1, min_samples_split=2,\n                       min_weight_fraction_leaf=0.0, presort='deprecated',\n                       random_state=None, splitter='best') is 0.7519083969465649\nAccuracy of RandomForestClassifier(bootstrap=True, ccp_alpha=0.0, class_weight=None,\n                       criterion='gini', max_depth=None, max_features='auto',\n                       max_leaf_nodes=None, max_samples=None,\n                       min_impurity_decrease=0.0, min_impurity_split=None,\n                       min_samples_leaf=1, min_samples_split=2,\n                       min_weight_fraction_leaf=0.0, n_estimators=100,\n                       n_jobs=None, oob_score=False, random_state=None,\n                       verbose=0, warm_start=False) is 0.8053435114503816\n"
    }
   ],
   "source": [
    "for clf in classifiers:\n",
    "    clf.fit(X_train, y_train)\n",
    "    y_pred = clf.predict(X_test)\n",
    "    acc = accuracy_score(y_test, y_pred)\n",
    "    print(\"Accuracy of %s is %s\"%(clf, acc))\n",
    "    cm = confusion_matrix(y_test, y_pred)\n",
    "    #print(\"Confusion Matrix of %s is %s\"%(clf, cm))"
   ]
  },
  {
   "cell_type": "code",
   "execution_count": null,
   "metadata": {},
   "outputs": [],
   "source": []
  }
 ],
 "metadata": {
  "language_info": {
   "name": "python",
   "codemirror_mode": {
    "name": "ipython",
    "version": 3
   },
   "version": "3.7.7-final"
  },
  "orig_nbformat": 2,
  "file_extension": ".py",
  "mimetype": "text/x-python",
  "name": "python",
  "npconvert_exporter": "python",
  "pygments_lexer": "ipython3",
  "version": 3,
  "kernelspec": {
   "name": "python3",
   "display_name": "Python 3"
  }
 },
 "nbformat": 4,
 "nbformat_minor": 2
}